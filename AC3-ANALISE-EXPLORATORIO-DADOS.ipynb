{
  "nbformat": 4,
  "nbformat_minor": 0,
  "metadata": {
    "colab": {
      "provenance": []
    },
    "kernelspec": {
      "name": "python3",
      "display_name": "Python 3"
    },
    "language_info": {
      "name": "python"
    }
  },
  "cells": [
    {
      "cell_type": "code",
      "metadata": {
        "id": "fsAp5gIQ3qos",
        "colab": {
          "base_uri": "https://localhost:8080/",
          "height": 52
        },
        "outputId": "38875f2b-1007-4ea1-ba70-57e84d3a31c7"
      },
      "source": [
        "'''\n",
        "Nome:\n",
        "Camila Lima Ferreira de Souza\n",
        "Daniela Alexandra da Silva\n",
        "Julia Camila Matias de Araújo\n",
        "Guilherme Silva Monteiro\n",
        "Lucas Henrique De Sousa\n",
        "'''"
      ],
      "execution_count": null,
      "outputs": [
        {
          "output_type": "execute_result",
          "data": {
            "application/vnd.google.colaboratory.intrinsic+json": {
              "type": "string"
            },
            "text/plain": [
              "'\\nNome:\\nCamila Lima Ferreira de Souza\\nDaniela Alexandra da Silva\\nJulia Camila Matias de Araújo\\nGuilherme Silva Monteiro\\nLucas Henrique De Sousa\\n'"
            ]
          },
          "metadata": {},
          "execution_count": 1
        }
      ]
    },
    {
      "cell_type": "code",
      "metadata": {
        "id": "NNGeWe601Iad",
        "colab": {
          "base_uri": "https://localhost:8080/",
          "height": 52
        },
        "outputId": "4fc550ba-131b-4efd-b2f8-3a59a34ad9f3"
      },
      "source": [
        "'''\n",
        "\n",
        "O que são medidas de dispersão?\n",
        "  R: Medidas que verificam o quantos os dados estão espalhados e sua distribuição se está organizada, muito longe ou não.\n",
        "\n",
        "Qual a diferença entre Desvio Médio Absoluto para Desvio Padrão?\n",
        "  R: Ambos utilizam a media/ mediana para chegar em seu desvio, porém o desvio absoluto verifica o quanto os valores se desviam e também descarta os valores negativos para chegar em seu desvio. \n",
        "Já o desvio padrão utiliza a raiz da variância. Ou seja enquando o Absoluto vai se basear na distância seja ela maior ou menor  da mediana.\n",
        "\n",
        "O que é amplitude interquartil?\n",
        "  R: Uma amplitude trabalha na dispersão(variabilidade dos dados) utiliza 50% dos dados, média,  amplitude superior, amplitude inferior. Seu valor é baseado na diferença do 1º e 3º quartil.\n",
        "\n",
        "Quais são as simetrias de um histograma e quais são as diferenças de cada uma?\n",
        "  R: Ele demostra a distribuição de frequencias e também variavel, suas simetrias podem ser positiva ou negativa apresenta o valor \n",
        "  mais alto no centro e conforme se aproxima da borda ele diminui. A frequencia trabalha na quantidade de ocorrencias, já a variavel trabalha em escala.\n",
        "\n",
        "Quais são as propriedades de um boxplot?\n",
        "  R: Informa a variação dos dados baseado nos quartis, podendo identificar outliers, dispersão e simetria. \n",
        "  \n",
        "'''\n"
      ],
      "execution_count": null,
      "outputs": [
        {
          "output_type": "execute_result",
          "data": {
            "application/vnd.google.colaboratory.intrinsic+json": {
              "type": "string"
            },
            "text/plain": [
              "'\\n\\nO que são medidas de dispersão?\\n  R:\\n\\nQual a diferença entre Desvio Médio Absoluto para Desvio Padrão?\\n  R:\\n\\nO que é amplitude interquartil?\\n  R:\\n\\nQuais são as simetrias de um histograma e quais são as diferenças de cada uma?\\n  R:\\n\\nQuais são as propriedades de um boxplot?\\n  R:\\n  \\n\\n'"
            ]
          },
          "metadata": {},
          "execution_count": 2
        }
      ]
    },
    {
      "cell_type": "code",
      "metadata": {
        "id": "TK_BMM9w3zYI"
      },
      "source": [
        "import  pandas as pd\n",
        "import  numpy  as np\n",
        "import math\n",
        "import statistics\n",
        "import matplotlib.pyplot as plt"
      ],
      "execution_count": null,
      "outputs": []
    },
    {
      "cell_type": "code",
      "metadata": {
        "id": "ENVj3hsU4gjw",
        "colab": {
          "base_uri": "https://localhost:8080/",
          "height": 419
        },
        "outputId": "b353013e-5ff6-4ad6-d464-9cf7b73f0830"
      },
      "source": [
        "# base \n",
        "baseDiabetes = pd.read_csv('Diabetes.csv')\n",
        "baseDiabetes"
      ],
      "execution_count": null,
      "outputs": [
        {
          "output_type": "execute_result",
          "data": {
            "text/html": [
              "<div>\n",
              "<style scoped>\n",
              "    .dataframe tbody tr th:only-of-type {\n",
              "        vertical-align: middle;\n",
              "    }\n",
              "\n",
              "    .dataframe tbody tr th {\n",
              "        vertical-align: top;\n",
              "    }\n",
              "\n",
              "    .dataframe thead th {\n",
              "        text-align: right;\n",
              "    }\n",
              "</style>\n",
              "<table border=\"1\" class=\"dataframe\">\n",
              "  <thead>\n",
              "    <tr style=\"text-align: right;\">\n",
              "      <th></th>\n",
              "      <th>Pregnancies</th>\n",
              "      <th>Glucose</th>\n",
              "      <th>BloodPressure</th>\n",
              "      <th>SkinThickness</th>\n",
              "      <th>Insulin</th>\n",
              "      <th>BMI</th>\n",
              "      <th>DiabetesPedigreeFunction</th>\n",
              "      <th>Age</th>\n",
              "      <th>Outcome</th>\n",
              "    </tr>\n",
              "  </thead>\n",
              "  <tbody>\n",
              "    <tr>\n",
              "      <th>0</th>\n",
              "      <td>6</td>\n",
              "      <td>148</td>\n",
              "      <td>72</td>\n",
              "      <td>35</td>\n",
              "      <td>0</td>\n",
              "      <td>33.6</td>\n",
              "      <td>0.627</td>\n",
              "      <td>50</td>\n",
              "      <td>1</td>\n",
              "    </tr>\n",
              "    <tr>\n",
              "      <th>1</th>\n",
              "      <td>1</td>\n",
              "      <td>85</td>\n",
              "      <td>66</td>\n",
              "      <td>29</td>\n",
              "      <td>0</td>\n",
              "      <td>26.6</td>\n",
              "      <td>0.351</td>\n",
              "      <td>31</td>\n",
              "      <td>0</td>\n",
              "    </tr>\n",
              "    <tr>\n",
              "      <th>2</th>\n",
              "      <td>8</td>\n",
              "      <td>183</td>\n",
              "      <td>64</td>\n",
              "      <td>0</td>\n",
              "      <td>0</td>\n",
              "      <td>23.3</td>\n",
              "      <td>0.672</td>\n",
              "      <td>32</td>\n",
              "      <td>1</td>\n",
              "    </tr>\n",
              "    <tr>\n",
              "      <th>3</th>\n",
              "      <td>1</td>\n",
              "      <td>89</td>\n",
              "      <td>66</td>\n",
              "      <td>23</td>\n",
              "      <td>94</td>\n",
              "      <td>28.1</td>\n",
              "      <td>0.167</td>\n",
              "      <td>21</td>\n",
              "      <td>0</td>\n",
              "    </tr>\n",
              "    <tr>\n",
              "      <th>4</th>\n",
              "      <td>0</td>\n",
              "      <td>137</td>\n",
              "      <td>40</td>\n",
              "      <td>35</td>\n",
              "      <td>168</td>\n",
              "      <td>43.1</td>\n",
              "      <td>2.288</td>\n",
              "      <td>33</td>\n",
              "      <td>1</td>\n",
              "    </tr>\n",
              "    <tr>\n",
              "      <th>...</th>\n",
              "      <td>...</td>\n",
              "      <td>...</td>\n",
              "      <td>...</td>\n",
              "      <td>...</td>\n",
              "      <td>...</td>\n",
              "      <td>...</td>\n",
              "      <td>...</td>\n",
              "      <td>...</td>\n",
              "      <td>...</td>\n",
              "    </tr>\n",
              "    <tr>\n",
              "      <th>763</th>\n",
              "      <td>10</td>\n",
              "      <td>101</td>\n",
              "      <td>76</td>\n",
              "      <td>48</td>\n",
              "      <td>180</td>\n",
              "      <td>32.9</td>\n",
              "      <td>0.171</td>\n",
              "      <td>63</td>\n",
              "      <td>0</td>\n",
              "    </tr>\n",
              "    <tr>\n",
              "      <th>764</th>\n",
              "      <td>2</td>\n",
              "      <td>122</td>\n",
              "      <td>70</td>\n",
              "      <td>27</td>\n",
              "      <td>0</td>\n",
              "      <td>36.8</td>\n",
              "      <td>0.340</td>\n",
              "      <td>27</td>\n",
              "      <td>0</td>\n",
              "    </tr>\n",
              "    <tr>\n",
              "      <th>765</th>\n",
              "      <td>5</td>\n",
              "      <td>121</td>\n",
              "      <td>72</td>\n",
              "      <td>23</td>\n",
              "      <td>112</td>\n",
              "      <td>26.2</td>\n",
              "      <td>0.245</td>\n",
              "      <td>30</td>\n",
              "      <td>0</td>\n",
              "    </tr>\n",
              "    <tr>\n",
              "      <th>766</th>\n",
              "      <td>1</td>\n",
              "      <td>126</td>\n",
              "      <td>60</td>\n",
              "      <td>0</td>\n",
              "      <td>0</td>\n",
              "      <td>30.1</td>\n",
              "      <td>0.349</td>\n",
              "      <td>47</td>\n",
              "      <td>1</td>\n",
              "    </tr>\n",
              "    <tr>\n",
              "      <th>767</th>\n",
              "      <td>1</td>\n",
              "      <td>93</td>\n",
              "      <td>70</td>\n",
              "      <td>31</td>\n",
              "      <td>0</td>\n",
              "      <td>30.4</td>\n",
              "      <td>0.315</td>\n",
              "      <td>23</td>\n",
              "      <td>0</td>\n",
              "    </tr>\n",
              "  </tbody>\n",
              "</table>\n",
              "<p>768 rows × 9 columns</p>\n",
              "</div>"
            ],
            "text/plain": [
              "     Pregnancies  Glucose  ...  Age  Outcome\n",
              "0              6      148  ...   50        1\n",
              "1              1       85  ...   31        0\n",
              "2              8      183  ...   32        1\n",
              "3              1       89  ...   21        0\n",
              "4              0      137  ...   33        1\n",
              "..           ...      ...  ...  ...      ...\n",
              "763           10      101  ...   63        0\n",
              "764            2      122  ...   27        0\n",
              "765            5      121  ...   30        0\n",
              "766            1      126  ...   47        1\n",
              "767            1       93  ...   23        0\n",
              "\n",
              "[768 rows x 9 columns]"
            ]
          },
          "metadata": {},
          "execution_count": 4
        }
      ]
    },
    {
      "cell_type": "code",
      "metadata": {
        "colab": {
          "base_uri": "https://localhost:8080/"
        },
        "id": "8Ok3eskv5Yfd",
        "outputId": "e9c6ee6e-2e63-4bcc-9dee-17cd1307b4aa"
      },
      "source": [
        "#informações\n",
        "baseDiabetes.info"
      ],
      "execution_count": null,
      "outputs": [
        {
          "output_type": "execute_result",
          "data": {
            "text/plain": [
              "<bound method DataFrame.info of      Pregnancies  Glucose  ...  Age  Outcome\n",
              "0              6      148  ...   50        1\n",
              "1              1       85  ...   31        0\n",
              "2              8      183  ...   32        1\n",
              "3              1       89  ...   21        0\n",
              "4              0      137  ...   33        1\n",
              "..           ...      ...  ...  ...      ...\n",
              "763           10      101  ...   63        0\n",
              "764            2      122  ...   27        0\n",
              "765            5      121  ...   30        0\n",
              "766            1      126  ...   47        1\n",
              "767            1       93  ...   23        0\n",
              "\n",
              "[768 rows x 9 columns]>"
            ]
          },
          "metadata": {},
          "execution_count": 5
        }
      ]
    },
    {
      "cell_type": "code",
      "metadata": {
        "colab": {
          "base_uri": "https://localhost:8080/"
        },
        "id": "TJrDD2XrjCq8",
        "outputId": "44154d5e-cf18-4a2c-9bf2-e6d1f75383b9"
      },
      "source": [
        "# Desvio padrão\n",
        "media = baseDiabetes['Age'].mean()\n",
        "print(f'A média da idade é de {media:.0f} anos.')"
      ],
      "execution_count": null,
      "outputs": [
        {
          "output_type": "stream",
          "name": "stdout",
          "text": [
            "A média da idade é de 33 anos.\n"
          ]
        }
      ]
    },
    {
      "cell_type": "code",
      "metadata": {
        "colab": {
          "base_uri": "https://localhost:8080/"
        },
        "id": "LejWxsN96oFV",
        "outputId": "2875b7a7-33cc-4adb-d111-c78c9ffb4f35"
      },
      "source": [
        "desvio_padrao = statistics.stdev(baseDiabetes['Age'])\n",
        "desvio_padrao"
      ],
      "execution_count": null,
      "outputs": [
        {
          "output_type": "execute_result",
          "data": {
            "text/plain": [
              "11.760231540678685"
            ]
          },
          "metadata": {},
          "execution_count": 7
        }
      ]
    },
    {
      "cell_type": "code",
      "metadata": {
        "colab": {
          "base_uri": "https://localhost:8080/"
        },
        "id": "eTutGNPve9ls",
        "outputId": "80fc61d4-1d42-455d-a5ad-5ccf79b030ca"
      },
      "source": [
        "# Desvio Médio\n",
        "desvio_medio = statistics.stdev(baseDiabetes['Age'])\n",
        "desvio_medio"
      ],
      "execution_count": null,
      "outputs": [
        {
          "output_type": "execute_result",
          "data": {
            "text/plain": [
              "11.760231540678685"
            ]
          },
          "metadata": {},
          "execution_count": 8
        }
      ]
    },
    {
      "cell_type": "code",
      "metadata": {
        "id": "NT-n5QCuzYEm"
      },
      "source": [],
      "execution_count": null,
      "outputs": []
    },
    {
      "cell_type": "code",
      "metadata": {
        "colab": {
          "base_uri": "https://localhost:8080/"
        },
        "id": "xXj6lCdkkYWL",
        "outputId": "94718823-d4dd-446b-d052-7fff054abf32"
      },
      "source": [
        "#Desvio Padrão\n",
        "baseDiabetes.std().round()\n"
      ],
      "execution_count": null,
      "outputs": [
        {
          "output_type": "execute_result",
          "data": {
            "text/plain": [
              "Pregnancies                   3.0\n",
              "Glucose                      32.0\n",
              "BloodPressure                19.0\n",
              "SkinThickness                16.0\n",
              "Insulin                     115.0\n",
              "BMI                           8.0\n",
              "DiabetesPedigreeFunction      0.0\n",
              "Age                          12.0\n",
              "Outcome                       0.0\n",
              "dtype: float64"
            ]
          },
          "metadata": {},
          "execution_count": 9
        }
      ]
    },
    {
      "cell_type": "code",
      "metadata": {
        "colab": {
          "base_uri": "https://localhost:8080/"
        },
        "id": "HAJ1CxAhm0qu",
        "outputId": "81b76cc5-b5a1-4513-f34e-911a1fa46648"
      },
      "source": [
        "# Desvio médio absoluto\n",
        "baseDiabetes.mad().round()"
      ],
      "execution_count": null,
      "outputs": [
        {
          "output_type": "execute_result",
          "data": {
            "text/plain": [
              "Pregnancies                  3.0\n",
              "Glucose                     25.0\n",
              "BloodPressure               13.0\n",
              "SkinThickness               14.0\n",
              "Insulin                     85.0\n",
              "BMI                          6.0\n",
              "DiabetesPedigreeFunction     0.0\n",
              "Age                         10.0\n",
              "Outcome                      0.0\n",
              "dtype: float64"
            ]
          },
          "metadata": {},
          "execution_count": 10
        }
      ]
    },
    {
      "cell_type": "markdown",
      "metadata": {
        "id": "B_9JjoYqSvSP"
      },
      "source": []
    },
    {
      "cell_type": "code",
      "metadata": {
        "colab": {
          "base_uri": "https://localhost:8080/"
        },
        "id": "HJ4d8gpu9ACR",
        "outputId": "d9bb3b68-0065-4359-bc52-ede03b7c24bb"
      },
      "source": [
        "# Interquartil\n",
        "baseDiabetes['Age'].describe()"
      ],
      "execution_count": null,
      "outputs": [
        {
          "output_type": "execute_result",
          "data": {
            "text/plain": [
              "count    768.000000\n",
              "mean      33.240885\n",
              "std       11.760232\n",
              "min       21.000000\n",
              "25%       24.000000\n",
              "50%       29.000000\n",
              "75%       41.000000\n",
              "max       81.000000\n",
              "Name: Age, dtype: float64"
            ]
          },
          "metadata": {},
          "execution_count": 11
        }
      ]
    },
    {
      "cell_type": "code",
      "metadata": {
        "colab": {
          "base_uri": "https://localhost:8080/"
        },
        "id": "OaPCHQ60Tpbd",
        "outputId": "20041393-e36a-4268-d5b3-07619e1cfc56"
      },
      "source": [
        "Q3 = baseDiabetes['Age'].describe()[6] #pegamos a sexta posição do describe, que equivale ao Q3\n",
        "Q1 =  baseDiabetes['Age'].describe()[4]#pegamos a quarta posição do describe, que equivale ao Q1\n",
        "intervalo = Q3 - Q1 #Calculamos Q3 - Q1 para termos o intervalo\n",
        "intervalo\n",
        "print(f'O intervalor interquartil da idade é de {intervalo}')"
      ],
      "execution_count": null,
      "outputs": [
        {
          "output_type": "stream",
          "name": "stdout",
          "text": [
            "O intervalor interquartil da idade é de 17.0\n"
          ]
        }
      ]
    },
    {
      "cell_type": "code",
      "metadata": {
        "colab": {
          "base_uri": "https://localhost:8080/"
        },
        "id": "QIckmnQRnGeK",
        "outputId": "18823cf0-97a4-4a9a-cfc4-06e4fa5859e6"
      },
      "source": [
        "baseDiabetes['Glucose'].describe()"
      ],
      "execution_count": null,
      "outputs": [
        {
          "output_type": "execute_result",
          "data": {
            "text/plain": [
              "count    768.000000\n",
              "mean     120.894531\n",
              "std       31.972618\n",
              "min        0.000000\n",
              "25%       99.000000\n",
              "50%      117.000000\n",
              "75%      140.250000\n",
              "max      199.000000\n",
              "Name: Glucose, dtype: float64"
            ]
          },
          "metadata": {},
          "execution_count": 13
        }
      ]
    },
    {
      "cell_type": "code",
      "metadata": {
        "colab": {
          "base_uri": "https://localhost:8080/"
        },
        "id": "xW4dZqKYnKfL",
        "outputId": "ff7f0e3c-9081-4357-ec28-48d15df320d1"
      },
      "source": [
        "Q3 = baseDiabetes['Glucose'].describe()[6] #pegamos a sexta posição do describe, que equivale ao Q3\n",
        "Q1 =  baseDiabetes['Glucose'].describe()[4]#pegamos a quarta posição do describe, que equivale ao Q1\n",
        "intervalo = Q3 - Q1 #Calculamos Q3 - Q1 para termos o intervalo\n",
        "intervalo\n",
        "print(f'O Valor do Intervalo é: {intervalo}')"
      ],
      "execution_count": null,
      "outputs": [
        {
          "output_type": "stream",
          "name": "stdout",
          "text": [
            "O Valor do Intervalo é: 41.25\n"
          ]
        }
      ]
    },
    {
      "cell_type": "code",
      "metadata": {
        "id": "77IzjtHioAwD"
      },
      "source": [
        "## iniciando os  graficos!"
      ],
      "execution_count": null,
      "outputs": []
    },
    {
      "cell_type": "code",
      "metadata": {
        "id": "fPHfWAAOob0R"
      },
      "source": [
        "#Agrupamentos\n",
        "Glucose_Agrupado = baseDiabetes.groupby('Glucose')\n",
        "Idade_Agrupado = baseDiabetes.groupby('Age')"
      ],
      "execution_count": null,
      "outputs": []
    },
    {
      "cell_type": "code",
      "metadata": {
        "id": "9ieECpvruyQg"
      },
      "source": [
        "#Somatória e contagem dos agrupamentos\n",
        "SomaGlicose = Glucose_Agrupado.sum()\n",
        "IdadeConta = Idade_Agrupado.count()"
      ],
      "execution_count": null,
      "outputs": []
    },
    {
      "cell_type": "code",
      "metadata": {
        "id": "W_hT3kEjTXaV"
      },
      "source": [
        "#grafico de Linhas\n",
        "#Levando os dados dos índices para a variável x e os valores para a variável y\n",
        "x = IdadeConta['Glucose'].index\n",
        "y = IdadeConta['Glucose']\n"
      ],
      "execution_count": null,
      "outputs": []
    },
    {
      "cell_type": "code",
      "metadata": {
        "id": "952bDA93URLq",
        "colab": {
          "base_uri": "https://localhost:8080/",
          "height": 444
        },
        "outputId": "b8fa682a-261b-4adc-de1b-518eaabafcb1"
      },
      "source": [
        "plt.plot(x, y) #Informações dos eixos X e Y\n",
        "plt.rcParams[\"figure.figsize\"]= [12,7]\n",
        "plt.scatter(x, y, color='Black') #Redimensionamento dos eixos X e Y e cor do gráfico\n",
        "plt.title('Levantamento por Glicose') #Titulo\n",
        "plt.show() #Exibição do gráfico na tela"
      ],
      "execution_count": null,
      "outputs": [
        {
          "output_type": "display_data",
          "data": {
            "image/png": "[encoded data removed]",
            "text/plain": [
              "<Figure size 864x504 with 1 Axes>"
            ]
          },
          "metadata": {
            "needs_background": "light"
          }
        }
      ]
    },
    {
      "cell_type": "code",
      "metadata": {
        "colab": {
          "base_uri": "https://localhost:8080/"
        },
        "id": "r5tANC4Ktf7H",
        "outputId": "d419d1ee-3606-447d-b099-13e58325981e"
      },
      "source": [
        "baseDiabetes.shape"
      ],
      "execution_count": null,
      "outputs": [
        {
          "output_type": "execute_result",
          "data": {
            "text/plain": [
              "(768, 9)"
            ]
          },
          "metadata": {},
          "execution_count": 20
        }
      ]
    },
    {
      "cell_type": "code",
      "metadata": {
        "id": "Zd5oUGPFwf1n"
      },
      "source": [
        "#grafico de Barras"
      ],
      "execution_count": null,
      "outputs": []
    },
    {
      "cell_type": "code",
      "metadata": {
        "id": "QKeIgINnw91f"
      },
      "source": [
        "BMI_Agrupado = baseDiabetes.groupby('BMI')\n",
        "BMIConta = BMI_Agrupado.sum()"
      ],
      "execution_count": null,
      "outputs": []
    },
    {
      "cell_type": "code",
      "metadata": {
        "id": "WVnf_r00wlKl"
      },
      "source": [
        "x = IdadeConta.sort_values('Glucose',ascending=False).head(10)['Glucose'].index\n",
        "y = IdadeConta.sort_values('Glucose',ascending=False).head(10)['Glucose']"
      ],
      "execution_count": null,
      "outputs": []
    },
    {
      "cell_type": "code",
      "metadata": {
        "id": "-fyQaSnMw0XX",
        "colab": {
          "base_uri": "https://localhost:8080/",
          "height": 461
        },
        "outputId": "989a068c-29c2-4b50-fc88-f38d5e35be13"
      },
      "source": [
        "\n",
        "plt.bar(x, y,color='Violet') #Informações dos eixos X e Y e cor do gráfico\n",
        "plt.rcParams[\"figure.figsize\"]= [12,7]\n",
        "plt.title('Gráfico de barras - Diabetes') #Titulo\n",
        "plt.xticks(rotation='vertical') #Tipo de rotação do eixo X\n",
        "plt.xlabel('Idade') #Nome do eixo X\n",
        "plt.ylabel('Total Glicose') #Nome do eixo Y\n",
        "plt.show() #Exibição do gráfico na tela"
      ],
      "execution_count": null,
      "outputs": [
        {
          "output_type": "display_data",
          "data": {
            "image/png": "[encoded data removed]",
            "text/plain": [
              "<Figure size 864x504 with 1 Axes>"
            ]
          },
          "metadata": {
            "needs_background": "light"
          }
        }
      ]
    },
    {
      "cell_type": "code",
      "metadata": {
        "id": "I9zfGRj9YS94",
        "colab": {
          "base_uri": "https://localhost:8080/",
          "height": 463
        },
        "outputId": "e0999104-cbc1-4a1a-ef4c-6a266df21d05"
      },
      "source": [
        "#gráfico de histograma\n",
        "\n",
        "baseDiabetes['Age'].hist(bins=8,color='Orange')\n",
        "plt.rcParams[\"figure.figsize\"]= [12,7]\n",
        "plt.xlabel('Classes') #Informações do eixo x\n",
        "plt.ylabel('Frequência') #Informações do eixo y\n",
        "plt.title('Histograma - Idade', size=20) #Titulo do gráfico com alteração do tamanho da fonte\n",
        "plt.grid(True) #Exibição da grid\n",
        "plt.show() #Exibição do gráfico na tela"
      ],
      "execution_count": null,
      "outputs": [
        {
          "output_type": "display_data",
          "data": {
            "image/png": "[encoded data removed]",
            "text/plain": [
              "<Figure size 864x504 with 1 Axes>"
            ]
          },
          "metadata": {
            "needs_background": "light"
          }
        }
      ]
    },
    {
      "cell_type": "code",
      "metadata": {
        "id": "tE5afzpRExGv",
        "colab": {
          "base_uri": "https://localhost:8080/",
          "height": 444
        },
        "outputId": "eaafb2aa-fa48-4365-e147-4e1c80e73e1b"
      },
      "source": [
        "#Criação do boxplot para as variáveis BloodPressure, Glucose e Insulin\n",
        "fig = plt.figure()\n",
        "ax = fig.add_subplot(111)\n",
        "ax.boxplot([baseDiabetes['BloodPressure'],baseDiabetes['Glucose']])\n",
        "plt.title('BoxPlot- Diabetes', color='red') \n",
        "plt.rcParams[\"figure.figsize\"]= [12,7]\n",
        "plt.show()"
      ],
      "execution_count": null,
      "outputs": [
        {
          "output_type": "display_data",
          "data": {
            "image/png": "[encoded data removed]",
            "text/plain": [
              "<Figure size 864x504 with 1 Axes>"
            ]
          },
          "metadata": {
            "needs_background": "light"
          }
        }
      ]
    },
    {
      "cell_type": "code",
      "metadata": {
        "id": "Jgzj1-qJz4F0"
      },
      "source": [
        "## Fazer uma análise detalhada no boxplot criado acima;\n",
        "  # Analisando o BoxPlot o grupo identificou que ambos teve Outliers.\n",
        "  # coluna: Pressão sangue - teve tanto outliers inferiores como outliers superiores. Que siginifica uma grande disperção de dados a mediana está mais\n",
        "  # proxima do q3 os outliers superiores estão mais agrupados\n",
        "  # Também identicamos que teve mais inferiores do que outliers superiores, em comparação com a coluna Glicose teve uma dispersão maior.\n",
        "\n",
        "  # coluna: Glicose - Analisando podemos identificar que a glicose possui maior dispersão e também a posição q2(mediana) está mais proximo do q1. \n",
        "  #Teve somente outliers inferiores(pouco)\n",
        "  #Pressão não esta simetricos: \n",
        "  \n",
        "\n",
        "\n",
        "\n",
        "  \n",
        " "
      ],
      "execution_count": null,
      "outputs": []
    },
    {
      "cell_type": "code",
      "metadata": {
        "id": "5O19x0d5zk1t",
        "colab": {
          "base_uri": "https://localhost:8080/"
        },
        "outputId": "6dc99f57-04ed-434f-dc30-cb2dfa647a91"
      },
      "source": [
        "baseDiabetes['BloodPressure'].describe().round()"
      ],
      "execution_count": null,
      "outputs": [
        {
          "output_type": "execute_result",
          "data": {
            "text/plain": [
              "count    768.0\n",
              "mean      69.0\n",
              "std       19.0\n",
              "min        0.0\n",
              "25%       62.0\n",
              "50%       72.0\n",
              "75%       80.0\n",
              "max      122.0\n",
              "Name: BloodPressure, dtype: float64"
            ]
          },
          "metadata": {},
          "execution_count": 27
        }
      ]
    }
  ]
}