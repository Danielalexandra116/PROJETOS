{
  "nbformat": 4,
  "nbformat_minor": 0,
  "metadata": {
    "colab": {
      "name": "ATIVIDADE_CONTINUA5.ipynb",
      "provenance": [],
      "collapsed_sections": []
    },
    "kernelspec": {
      "name": "python3",
      "display_name": "Python 3"
    },
    "language_info": {
      "name": "python"
    }
  },
  "cells": [
    {
      "cell_type": "code",
      "metadata": {
        "id": "L62YiBocbT3z"
      },
      "source": [
        "#DANIELA ALEXANDRA DA SILVA \n",
        "#GUILHEREME SILVA MONTEIRO"
      ],
      "execution_count": 1,
      "outputs": []
    },
    {
      "cell_type": "code",
      "metadata": {
        "colab": {
          "base_uri": "https://localhost:8080/"
        },
        "id": "PbXrbI3yYh3O",
        "outputId": "aaf22cea-2f97-4863-97bc-ffc7ae6fb368"
      },
      "source": [
        "%%sh\n",
        "sudo pip install spark\n",
        "sudo pip install pyspark\n"
      ],
      "execution_count": 2,
      "outputs": [
        {
          "output_type": "stream",
          "name": "stdout",
          "text": [
            "Requirement already satisfied: spark in /usr/local/lib/python3.7/dist-packages (0.2.1)\n",
            "Requirement already satisfied: pyspark in /usr/local/lib/python3.7/dist-packages (3.2.0)\n",
            "Requirement already satisfied: py4j==0.10.9.2 in /usr/local/lib/python3.7/dist-packages (from pyspark) (0.10.9.2)\n"
          ]
        }
      ]
    },
    {
      "cell_type": "code",
      "metadata": {
        "id": "_lClhmY_Yqld"
      },
      "source": [
        "#Vamos importar as bibliotecas\n",
        "#Pandas, podemos transformar um dataframe do pandas em um dataframe do spark e o contrário também\n",
        "import pandas as pd\n",
        "\n",
        "#Importando o spark e o pyspark\n",
        "import spark,pyspark\n",
        "\n",
        "#Importando as bibliotecas do pyspark.sql \n",
        "from pyspark.sql import *\n",
        "\n",
        "#Importando as funções sql do spark\n",
        "#documentação https://spark.apache.org/docs/latest/api/sql/index.html\n",
        "from pyspark.sql import functions as f\n",
        "\n",
        "#Importando os tipos de dados do spark\n",
        "#documentação https://spark.apache.org/docs/latest/sql-ref-datatypes.html\n",
        "from pyspark.sql import types as t\n",
        "\n",
        "#Biblioteca datetime\n",
        "from datetime import datetime, date\n",
        "from pyspark.sql import types as t \n",
        "from pyspark.sql import functions as f"
      ],
      "execution_count": 3,
      "outputs": []
    },
    {
      "cell_type": "code",
      "metadata": {
        "id": "EFoDT0ZtZN64"
      },
      "source": [
        "#2\n",
        "spark = SparkSession.builder.master(\"local\").appName(\"AC5 DataEng\").getOrCreate()"
      ],
      "execution_count": 4,
      "outputs": []
    },
    {
      "cell_type": "code",
      "metadata": {
        "id": "FIAkWiIPZN3v"
      },
      "source": [
        "#4\n",
        "df_vendas = spark.read.format(\"parquet\").option(\"header\",\"true\").option(\"delimiter\",\";\").option(\"encoding\", \"UTF-8\").load(\"/content/vendas.parquet\")"
      ],
      "execution_count": 5,
      "outputs": []
    },
    {
      "cell_type": "code",
      "metadata": {
        "id": "MD2_11YiZN06"
      },
      "source": [
        "df_vendas.show()"
      ],
      "execution_count": null,
      "outputs": []
    },
    {
      "cell_type": "code",
      "metadata": {
        "id": "-JD1uEvbZNyr"
      },
      "source": [
        "#5\n",
        "df_vendas2 = df_vendas.withColumn(\"data\",df_vendas.data.cast(t.DateType()))\n"
      ],
      "execution_count": 7,
      "outputs": []
    },
    {
      "cell_type": "code",
      "metadata": {
        "id": "e6vSOI_IiaIm"
      },
      "source": [
        "#6\n",
        "#Criando novas colunas\n",
        "df_vendas2 = df_vendas2.withColumn(\"DIA\",f.dayofmonth(\"data\"))\n",
        "df_vendas2 = df_vendas2.withColumn(\"MES\",f.month(\"data\"))\n",
        "df_vendas2 = df_vendas2.withColumn(\"ANO\",f.year(\"data\"))\n"
      ],
      "execution_count": 8,
      "outputs": []
    },
    {
      "cell_type": "code",
      "metadata": {
        "id": "FEmqEzg7ZNsk"
      },
      "source": [
        "df_vendas2.show()"
      ],
      "execution_count": null,
      "outputs": []
    },
    {
      "cell_type": "code",
      "metadata": {
        "id": "fwBwtujXZNwu"
      },
      "source": [
        "#7\n",
        "df_filtro = df_vendas2.withColumn(\"SMS_TRATADO\",f.when(df_vendas2.sms.isNull(),False).otherwise(df_vendas2.sms))\n",
        "\n"
      ],
      "execution_count": 10,
      "outputs": []
    },
    {
      "cell_type": "code",
      "metadata": {
        "id": "XtpdQS6PYqn4"
      },
      "source": [
        "df_filtro.show()"
      ],
      "execution_count": null,
      "outputs": []
    },
    {
      "cell_type": "code",
      "metadata": {
        "id": "wKDqUgn1ZNpR"
      },
      "source": [
        "#8\n",
        "df_filtro = df_vendas2.withColumn(\"total\",df_vendas2.qtd * df_vendas2.vlr)"
      ],
      "execution_count": 12,
      "outputs": []
    },
    {
      "cell_type": "code",
      "metadata": {
        "id": "va9kMO0ar3t3"
      },
      "source": [
        "df_filtro.show()"
      ],
      "execution_count": null,
      "outputs": []
    },
    {
      "cell_type": "code",
      "metadata": {
        "id": "ZKJ_XL3kYqrR"
      },
      "source": [
        "#9\n",
        "#Partition by irá criar uma arvore de pastas\n",
        "df_filtro.write.partitionBy(\"ANO\",\"MES\",\"DIA\").parquet(\"/content/vendas_tratadas\")"
      ],
      "execution_count": null,
      "outputs": []
    },
    {
      "cell_type": "code",
      "metadata": {
        "id": "5fikbtBUYquI"
      },
      "source": [
        "#10\n",
        "#cria tabela temporaria \n",
        "df_filtro.registerTempTable(\"vendas_table\")\n"
      ],
      "execution_count": null,
      "outputs": []
    },
    {
      "cell_type": "code",
      "metadata": {
        "id": "M1tX2WtLYqwT"
      },
      "source": [
        "df_filtro.show()"
      ],
      "execution_count": null,
      "outputs": []
    },
    {
      "cell_type": "code",
      "metadata": {
        "id": "43-tATfNvRIa"
      },
      "source": [
        "df_1 = df_filtro"
      ],
      "execution_count": 17,
      "outputs": []
    },
    {
      "cell_type": "code",
      "metadata": {
        "id": "vOYQrM-SYqyb"
      },
      "source": [
        "#11\n",
        "#query criando dataframe\n",
        "df_1 = spark.sql(\"select distinct cidade from vendas_table\" )\n",
        "df_1.show()"
      ],
      "execution_count": null,
      "outputs": []
    },
    {
      "cell_type": "code",
      "metadata": {
        "id": "fme8-JryYq01"
      },
      "source": [
        "#Gravando dados como parquet\n",
        "df_1.write.parquet(\"/content/cidade\")"
      ],
      "execution_count": null,
      "outputs": []
    },
    {
      "cell_type": "code",
      "metadata": {
        "id": "3V5Zi1NhYq6G"
      },
      "source": [
        ""
      ],
      "execution_count": null,
      "outputs": []
    },
    {
      "cell_type": "code",
      "metadata": {
        "id": "5vRAJpDZxam5"
      },
      "source": [
        "#12\n",
        "produto = df_filtro.select(\"des_produto\",\"des_familia\", \"des_secao\", \"des_categoria\",\"des_sub_categoria\").distinct()\n",
        "produto.distinct()\n",
        "produto.show()"
      ],
      "execution_count": null,
      "outputs": []
    },
    {
      "cell_type": "code",
      "metadata": {
        "id": "iIOItLWUYq89"
      },
      "source": [
        "#12\n",
        "#Função Trim\n",
        "produto = produto.withColumn(\"SEM ESPAÇO\",f.trim(produto.des_familia)).distinct()\n",
        "produto = produto.withColumn(\"SECAO\",f.trim(produto.des_secao)).distinct()\n",
        "produto = produto.withColumn(\"CATEGORIA\",f.trim(produto.des_categoria)).distinct()\n",
        "produto = produto.withColumn(\"SUB-CATEGORIA\",f.trim(produto.des_sub_categoria)).distinct()\n",
        "\n",
        "produto.show()"
      ],
      "execution_count": null,
      "outputs": []
    },
    {
      "cell_type": "code",
      "metadata": {
        "id": "U-gLOi-iYq-7"
      },
      "source": [
        "#13\n",
        "venda_mulheres = df_filtro.where(df_filtro.sexo== 'F')"
      ],
      "execution_count": 25,
      "outputs": []
    },
    {
      "cell_type": "code",
      "metadata": {
        "id": "qBOHOkY2YrBU"
      },
      "source": [
        "venda_mulheres.show()"
      ],
      "execution_count": null,
      "outputs": []
    },
    {
      "cell_type": "code",
      "metadata": {
        "id": "G_F_lSQ0YrD3"
      },
      "source": [
        "venda_mulheres.write.format(\"json\").save(\"venda_mulher\")\n"
      ],
      "execution_count": 32,
      "outputs": []
    },
    {
      "cell_type": "code",
      "metadata": {
        "id": "7WyPdq-3YrGe"
      },
      "source": [
        "#14\n",
        "vendas_unica = df_filtro.where((df_filtro.qtd == 1) & (df_filtro.vlr < 10))"
      ],
      "execution_count": 37,
      "outputs": []
    },
    {
      "cell_type": "code",
      "metadata": {
        "id": "3kD9uI_OYrJa"
      },
      "source": [
        "vendas_unica.write.format(\"csv\").save(\"venda_unica\")\n"
      ],
      "execution_count": 39,
      "outputs": []
    }
  ]
}