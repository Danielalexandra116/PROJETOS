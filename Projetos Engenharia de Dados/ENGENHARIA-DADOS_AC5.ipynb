{
  "nbformat": 4,
  "nbformat_minor": 0,
  "metadata": {
    "colab": {
      "provenance": []
    },
    "kernelspec": {
      "name": "python3",
      "display_name": "Python 3"
    },
    "language_info": {
      "name": "python"
    }
  },
  "cells": [
    {
      "cell_type": "code",
      "metadata": {
        "id": "KNoLyVT0ghYi"
      },
      "source": [
        "%%sh\n",
        "sudo pip install spark\n",
        "sudo pip install pyspark"
      ],
      "execution_count": null,
      "outputs": []
    },
    {
      "cell_type": "code",
      "metadata": {
        "id": "p8izvVP9g9Hl"
      },
      "source": [
        "#1-Instalar e importar as bibliotecas do spark e pyspark (as mesmas disponibilizadas nas aulas).\n",
        "import pandas as pd\n",
        "\n",
        "#Importando o spark e o pyspark\n",
        "import spark,pyspark\n",
        "\n",
        "#Importando as bibliotecas do pyspark.sql \n",
        "from pyspark.sql import *\n",
        "\n",
        "#Importando as funções sql do spark\n",
        "#documentação https://spark.apache.org/docs/latest/api/sql/index.html\n",
        "from pyspark.sql import functions as f\n",
        "\n",
        "#Importando os tipos de dados do spark\n",
        "#documentação https://spark.apache.org/docs/latest/sql-ref-datatypes.html\n",
        "from pyspark.sql import types as t \n",
        "\n",
        "#Biblioteca datetime\n",
        "from datetime import datetime, date"
      ],
      "execution_count": null,
      "outputs": []
    },
    {
      "cell_type": "code",
      "metadata": {
        "id": "s0OUs-vnhDAY"
      },
      "source": [
        "#2 - Criar um spark context com o app name = “AC4 DataEng”.\n",
        "spark = SparkSession.builder.master(\"local\").appName(\"AC5 DataEng\").getOrCreate()\n",
        "#3-Subir o arquivo “vendas.parquet” para o ambiente do Colab.\n",
        "#4-Criar um dataframe lendo o arquivo vendas.parquet.\n",
        "#5-Converter a coluna data para o tipo DateType.\n",
        "#6-Criar as colunas, utilizando as funções spark.sql.functions.year,spark.sql.functions.month ,spark.sql.functions.dayofyear:\n",
        " #ano = ano da coluna “data”.\n",
        " #mes= mes da coluna “data”.\n",
        " #dia= dia da coluna “data”.\n",
        "#7-Na coluna sms, se caso o valor for null, troque por “False” (use a função spark.sql.functions.when)\n",
        "#8-Crie uma coluna chamada “total” que deve ser a multiplicação das colunas “vlr” e “qtd”.\n",
        "#9-Grave o dataframe particionado por ano, mes e dia no formato “parquet” de nome “vendas_tratadas”.\n",
        "#10-Crie uma tabela temporaria chamada “vendas_table” (dataFrame.registerTempTable(“vendas_table”))\n",
        "#11-Crie um dataframe spark.sql utilizando a query spark.sql(“select distinct cidade from vendas_table”). Grave esse dataframe no formato “parquet” de nome  “cidade”.\n",
        "#12-Criar um dataframe com a soma do vlr, soma da qtd agrupado pela data. Gravar esse dataframe no formato “parquet” de nome “vendas_total”. \n",
        "#13-Crie um novo dataframe chamado “produto” selecionando as colunas: “des_produto”,”des_familia”, “des_secao”, “des_categoria”,”des_sub_categoria”. Apenas valores unicos (distinct()). Grave esse dataframe como parquet “produto”\n",
        "#14-Crie um dataframe chamado “venda_mulheres”, selecionando todas as colunas e filtrando apenas vendas realizadas para o sexo “F”, grave esse dataframe no formato json “venda_mulher”. (df.write.format(“json”).save(“venda_mulher”))\n",
        "#15-Crie um dataframe chamado “venda_unicas”, selecionando todas as colunas e filtrando apenas vendas com a qtd igual 1 e o vlr menor que 10. Grave esse dataframe no formato csv“venda_unica”. (df.write.format(“csv”).save(“venda_unica”))\n"
      ],
      "execution_count": null,
      "outputs": []
    },
    {
      "cell_type": "code",
      "metadata": {
        "id": "o18sYV2fhOnT"
      },
      "source": [
        "#4-Criar um dataframe lendo o arquivo vendas.parquet\n",
        "df = spark.read.format(\"parquet\").load(\"/content/vendas1.parquet\")\n",
        "df = spark.read.parquet(\"/content/vendas1.parquet\")\n",
        " "
      ],
      "execution_count": null,
      "outputs": []
    },
    {
      "cell_type": "code",
      "metadata": {
        "id": "OzRQ5_yjj6Dd",
        "colab": {
          "base_uri": "https://localhost:8080/"
        },
        "outputId": "3222750f-3a3c-479e-e64a-02e73ed241ab"
      },
      "source": [
        "#5-Converter a coluna data para o tipo DateType.\n",
        "df = df.withColumn(\"data\",df.data.cast(t.DateType()))\n",
        "df = df.withColumn(\"cod_pessoa\",df.cod_pessoa.cast(t.DecimalType(10,4)))\n",
        "df = df.withColumn(\"cod_transacao\",df.cod_transacao.cast(\"Decimal(10,2)\"))\n",
        "#6-Criar as colunas, utilizando as funções spark.sql.functions.year,spark.sql.functions.month ,spark.sql.functions.dayofmonth:\n",
        "df = df.withColumn(\"ano\",f.year(df.data)) \n",
        "df = df.withColumn(\"mes\",f.month(df.data)) \n",
        "df = df.withColumn(\"dia\",f.dayofmonth(df.data)) \n",
        "df.select(\"data\",\"cod_pessoa\",\"cod_transacao\",\"ano\",\"mes\",\"dia\").show()"
      ],
      "execution_count": null,
      "outputs": [
        {
          "output_type": "stream",
          "name": "stdout",
          "text": [
            "+----------+----------+-------------+----+---+---+\n",
            "|      data|cod_pessoa|cod_transacao| ano|mes|dia|\n",
            "+----------+----------+-------------+----+---+---+\n",
            "|2020-10-26| 4644.0000|   8064284.00|2020| 10| 26|\n",
            "|2020-10-26| 3578.0000|   8067745.00|2020| 10| 26|\n",
            "|2020-12-18| 6505.0000|   8301911.00|2020| 12| 18|\n",
            "|2020-11-25| 3982.0000|   8194983.00|2020| 11| 25|\n",
            "|2020-11-05| 1195.0000|   8109606.00|2020| 11|  5|\n",
            "|2020-11-08|36979.0000|   8123367.00|2020| 11|  8|\n",
            "|2020-10-17|14173.0000|   8027160.00|2020| 10| 17|\n",
            "|2020-10-17| 3618.0000|   8025931.00|2020| 10| 17|\n",
            "|2020-10-17| 4860.0000|   8026361.00|2020| 10| 17|\n",
            "|2020-12-11|23792.0000|   8270907.00|2020| 12| 11|\n",
            "|2020-11-06|42057.0000|   8114968.00|2020| 11|  6|\n",
            "|2020-11-20|12539.0000|   8174079.00|2020| 11| 20|\n",
            "|2020-11-23|23881.0000|   8188049.00|2020| 11| 23|\n",
            "|2020-12-03|12539.0000|   8232779.00|2020| 12|  3|\n",
            "|2020-09-22| 1195.0000|   7917141.00|2020|  9| 22|\n",
            "|2020-09-22|14173.0000|   7916639.00|2020|  9| 22|\n",
            "|2020-10-19| 2274.0000|   8036529.00|2020| 10| 19|\n",
            "|2020-11-07| 1364.0000|   8121027.00|2020| 11|  7|\n",
            "|2020-11-11|23792.0000|   8136281.00|2020| 11| 11|\n",
            "|2020-12-19| 1324.0000|   8308469.00|2020| 12| 19|\n",
            "+----------+----------+-------------+----+---+---+\n",
            "only showing top 20 rows\n",
            "\n"
          ]
        }
      ]
    },
    {
      "cell_type": "code",
      "metadata": {
        "id": "8AMUj-Pokj80"
      },
      "source": [
        "#7-Na coluna sms, se caso o valor for null, troque por “False” (use a função spark.sql.functions.when)\n",
        "df = df.withColumn(\"sms\",f.when(df.sms.isNull(),False).when(df.sms=='não informado',False).otherwise(True))\n",
        "df.show()"
      ],
      "execution_count": null,
      "outputs": []
    },
    {
      "cell_type": "code",
      "metadata": {
        "id": "kxUmHY8tmjTO",
        "colab": {
          "base_uri": "https://localhost:8080/"
        },
        "outputId": "2afdf57f-2de6-4cac-fd70-915385d1e31e"
      },
      "source": [
        "#8-Crie uma coluna chamada “total” que deve ser a multiplicação das colunas “vlr” e “qtd”.\n",
        "df = df.withColumn(\"total\",df.vlr * df.qtd)\n",
        "df"
      ],
      "execution_count": null,
      "outputs": [
        {
          "output_type": "execute_result",
          "data": {
            "text/plain": [
              "DataFrame[cod_ean: string, cod_pessoa: decimal(10,4), cod_transacao: decimal(10,2), data: date, vlr: bigint, qtd: bigint, nome: string, sms: boolean, email: boolean, classe: string, sexo: string, cidade: string, des_produto: string, des_familia: string, des_secao: string, des_categoria: string, des_sub_categoria: string, __index_level_0__: bigint, ano: int, mes: int, dia: int, total: bigint]"
            ]
          },
          "metadata": {},
          "execution_count": 22
        }
      ]
    },
    {
      "cell_type": "code",
      "metadata": {
        "id": "dSRGofGWmkE9"
      },
      "source": [
        "df1 = spark.read.option(\"basePath\",\"/content/ac4/vendas_partition/\").parquet(\"/content/ac4/vendas_partition/ano=2019/mes=10\")\n",
        "df1.select(\"ano\",\"mes\",\"dia\").distinct().show()"
      ],
      "execution_count": null,
      "outputs": []
    },
    {
      "cell_type": "code",
      "metadata": {
        "id": "hXvs65t4oJ38"
      },
      "source": [
        "}#9-Grave o dataframe particionado por ano, mes e dia no formato “parquet” de nome “vendas_tratadas”.\n",
        "#df.write.mode(\"overwrite\").partitionBy(\"ano\").parquet(\"ac4/vendas_ano\")\n",
        "#df.write.mode(\"overwrite\").partitionBy(\"mes\").parquet(\"ac4/vendas_mes\")\n",
        "#df.write.mode(\"overwrite\").partitionBy(\"dia\").parquet(\"ac4/vendas_dia\")\n",
        "df.write.mode(\"overwrite\").partitionBy(\"ano\",\"mes\",\"dia\").parquet(\"ac4/vendas_partition\")"
      ],
      "execution_count": null,
      "outputs": []
    },
    {
      "cell_type": "code",
      "metadata": {
        "id": "ZIBxqHujpAHH"
      },
      "source": [
        "df2019 = spark.read.parquet(\"/content/ac4/vendas_partition/ano=2019\")"
      ],
      "execution_count": null,
      "outputs": []
    },
    {
      "cell_type": "code",
      "metadata": {
        "id": "u17MIw2cp2Fo",
        "colab": {
          "base_uri": "https://localhost:8080/"
        },
        "outputId": "6a7b968d-698d-4bd4-d633-d99809036c58"
      },
      "source": [
        "#10-Crie uma tabela temporaria chamada “vendas_table” (dataFrame.registerTempTable(“vendas_table”))\n",
        "df.registerTempTable(\"vendas_table\")"
      ],
      "execution_count": null,
      "outputs": [
        {
          "output_type": "stream",
          "name": "stderr",
          "text": [
            "/usr/local/lib/python3.7/dist-packages/pyspark/sql/dataframe.py:140: FutureWarning: Deprecated in 2.0, use createOrReplaceTempView instead.\n",
            "  FutureWarning\n"
          ]
        }
      ]
    },
    {
      "cell_type": "markdown",
      "metadata": {
        "id": "0ZipqyXxrD80"
      },
      "source": []
    },
    {
      "cell_type": "code",
      "metadata": {
        "id": "WT4rfdVCqWin",
        "colab": {
          "base_uri": "https://localhost:8080/"
        },
        "outputId": "4dcaf28b-5374-4d56-9c5b-98af4e59e8f1"
      },
      "source": [
        "#11-Crie um dataframe spark.sql utilizando a query \n",
        "#spark.sql(“select distinct cidade from vendas_table”). Grave esse dataframe no formato “parquet” de nome  “cidade”.\n",
        "df_ci = spark.sql(\"  SELECT distinct cidade FROM vendas_table    \")\n",
        "df_ci.registerTempTable(\"cidade\")\n",
        "df_ci.write.mode(\"overwrite\").parquet(\"ac4/cidade\")"
      ],
      "execution_count": null,
      "outputs": [
        {
          "output_type": "stream",
          "name": "stderr",
          "text": [
            "/usr/local/lib/python3.7/dist-packages/pyspark/sql/dataframe.py:140: FutureWarning: Deprecated in 2.0, use createOrReplaceTempView instead.\n",
            "  FutureWarning\n"
          ]
        }
      ]
    },
    {
      "cell_type": "code",
      "metadata": {
        "id": "A90gryG9sdfA"
      },
      "source": [
        "#12-Criar um dataframe com a soma do vlr, soma da qtd agrupado pela data. \n",
        "#Gravar esse dataframe no formato “parquet” de nome “vendas_total”. \n",
        "df_agg= spark.sql(\"select sum(vlr) vlr,sum(qtd) qtd, data from vendas_table  group by data \")\n",
        "df_agg1 = df.groupBy(\"data\").agg(f.sum(df.qtd).alias(\"qtd\"),f.sum(df.vlr).alias(\"vlr\"))\n",
        "df_agg1.write.parquet(\"ac4/vendas_total\")"
      ],
      "execution_count": null,
      "outputs": []
    },
    {
      "cell_type": "code",
      "metadata": {
        "colab": {
          "base_uri": "https://localhost:8080/"
        },
        "id": "LbiSXuVGbg6N",
        "outputId": "0d46096a-4bff-4e9f-ab98-8a6b925ea26a"
      },
      "source": [
        "df_sex = df.groupBy(\"sexo\",\"classe\").agg(f.max(\"data\").alias(\"max_data\"),\n",
        "                                         f.avg(\"vlr\").alias(\"media_valor\")\n",
        "                                        ,f.min(\"data\").alias(\"data_minima\"))\n",
        "df_sex.show()"
      ],
      "execution_count": null,
      "outputs": [
        {
          "output_type": "stream",
          "name": "stdout",
          "text": [
            "+----+------+----------+------------------+-----------+\n",
            "|sexo|classe|  max_data|       media_valor|data_minima|\n",
            "+----+------+----------+------------------+-----------+\n",
            "|   F|  Ouro|2021-01-16|17.554443554843875| 2019-09-01|\n",
            "|   M|  Ouro|2021-01-16| 35.07774560035643| 2019-09-01|\n",
            "|   F| Prata|2021-01-14| 20.11247443762781| 2019-09-10|\n",
            "|   M| Prata|2021-01-16|  43.0746336996337| 2019-09-02|\n",
            "|null|  null|2021-01-16| 29.44274077623383| 2019-09-01|\n",
            "+----+------+----------+------------------+-----------+\n",
            "\n"
          ]
        }
      ]
    },
    {
      "cell_type": "code",
      "metadata": {
        "colab": {
          "base_uri": "https://localhost:8080/"
        },
        "id": "eS71GbBjsvTI",
        "outputId": "b4368ed2-665f-4fed-b13d-a1778923d9d4"
      },
      "source": [
        "#13-Crie um novo dataframe chamado “produto” selecionando as colunas:\n",
        "# “des_produto”,”des_familia”, “des_secao”, “des_categoria”,”des_sub_categoria”. Apenas valores unicos (distinct()). Grave esse dataframe como parquet “produto”\n",
        "df_p = df.select(f.trim(\"des_produto\").alias(\"des_produto\"),\n",
        "                 f.trim(\"des_familia\").alias(\"des_familia\"),\n",
        "                 f.trim(\"des_secao\").alias(\"des_secao\"),\n",
        "                 f.trim(\"des_categoria\").alias(\"des_categoria\"),\n",
        "                 f.trim(\"des_sub_categoria\").alias(\"des_sub_categoria\")).distinct()\n",
        "df_p = df_p.where(df_p.des_produto.isNotNull())\n",
        "df_p = df_p.drop(\"des_sub_categoria\")\n",
        "df_p.orderBy(\"des_produto\").show()\n",
        "df_p.write.partitionBy(\"des_familia\",\"des_secao\").parquet(\"ac4/produto\")"
      ],
      "execution_count": null,
      "outputs": [
        {
          "output_type": "stream",
          "name": "stdout",
          "text": [
            "+--------------------+-----------+---------+-------------------+\n",
            "|         des_produto|des_familia|des_secao|      des_categoria|\n",
            "+--------------------+-----------+---------+-------------------+\n",
            "| ACEM BOVINO KG PECA| PERECIVEIS|  ACOUGUE|       CARNE BOVINA|\n",
            "|ACUCAR CRISTAL SA...|  MERCEARIA|ALTO GIRO|             ACUCAR|\n",
            "|ALCATRA C/ MAMINH...| PERECIVEIS|  ACOUGUE|       CARNE BOVINA|\n",
            "|   ALHO GRANEL T6 KG| PERECIVEIS|    F L V|               ALHO|\n",
            "|ARROZ EMPORIO SAO...|  MERCEARIA|ALTO GIRO|              ARROZ|\n",
            "|ARROZ SANO 5 KG T...|  MERCEARIA|ALTO GIRO|              ARROZ|\n",
            "|    BANANA NANICA KG| PERECIVEIS|    F L V|             FRUTAS|\n",
            "|     BATATA EXTRA KG| PERECIVEIS|    F L V|TUBERCULOS E RAIZES|\n",
            "|  CEBOLA NACIONAL KG| PERECIVEIS|    F L V|             CEBOLA|\n",
            "|          CENOURA KG| PERECIVEIS|    F L V|TUBERCULOS E RAIZES|\n",
            "|CERVEJA AMSTEL 35...|  MERCEARIA|  BEBIDAS|           CERVEJAS|\n",
            "|CERVEJA SKOL 350 ...|  MERCEARIA|  BEBIDAS|           CERVEJAS|\n",
            "|CONTRA FILE BOVIN...| PERECIVEIS|  ACOUGUE|       CARNE BOVINA|\n",
            "|COSTELA BOV FATIA...| PERECIVEIS|  ACOUGUE|       CARNE BOVINA|\n",
            "|COSTELA BOVINA GA...| PERECIVEIS|  ACOUGUE|       CARNE BOVINA|\n",
            "| COSTELINHA SUINA KG| PERECIVEIS|  ACOUGUE|        CARNE SUINA|\n",
            "|COXA SOBRECOXA CO...| PERECIVEIS|  ACOUGUE|               AVES|\n",
            "|COXA SOBRECOXA FR...| PERECIVEIS|  ACOUGUE|               AVES|\n",
            "|  COXAO DURO KG BIFE| PERECIVEIS|  ACOUGUE|       CARNE BOVINA|\n",
            "|COXAO MOLE BOVINO...| PERECIVEIS|  ACOUGUE|       CARNE BOVINA|\n",
            "+--------------------+-----------+---------+-------------------+\n",
            "only showing top 20 rows\n",
            "\n"
          ]
        }
      ]
    },
    {
      "cell_type": "code",
      "metadata": {
        "id": "Lb4JSV8hw_uc"
      },
      "source": [
        "#14-Crie um dataframe chamado “venda_mulheres”, selecionando todas as colunas e filtrando apenas vendas realizadas para o sexo “F”,\n",
        "# grave esse dataframe no formato json “venda_mulher”. (df.write.format(“json”).save(“venda_mulher”))\n",
        "df_f = spark.sql(\"select * from vendas_table where sexo = 'F'\")\n",
        "df_f1 = df.where(df.sexo==\"F\")\n",
        "df_f1 = df.filter(\"sexo =  'F'  \")\n",
        "df_f1.write.json(\"ac4/venda_mulher\")"
      ],
      "execution_count": null,
      "outputs": []
    },
    {
      "cell_type": "code",
      "metadata": {
        "id": "oMbt6gd2y3L9"
      },
      "source": [
        "#15 #15-Crie um dataframe chamado “venda_unicas”, selecionando todas as colunas e filtrando apenas vendas com a qtd igual 1 \n",
        "#e o vlr menor que 10. Grave esse dataframe no formato csv“venda_unica”. (df.write.format(“csv”).save(“venda_unica”))\n",
        "dfu = df.where((df.qtd==1)&(df.vlr<10))\n",
        "dfu.write.csv(\"ac4/venda_unica\")"
      ],
      "execution_count": null,
      "outputs": []
    },
    {
      "cell_type": "code",
      "metadata": {
        "id": "lbUmcihKznKu"
      },
      "source": [
        "dfc = spark.read.option(\"header\",\"true\").option(\"delimiter\",\";\").csv(\"/content/cliente.csv\")\n",
        "dfc1 = spark.read.option(\"header\",\"true\").option(\"delimiter\",\";\").csv(\"/content/cliente (1).csv\")\n",
        "dfn = spark.read.option(\"header\",\"true\").option(\"delimiter\",\";\").csv(\"/content/nota.csv\")"
      ],
      "execution_count": null,
      "outputs": []
    },
    {
      "cell_type": "code",
      "metadata": {
        "colab": {
          "base_uri": "https://localhost:8080/"
        },
        "id": "4hPdUXcH0FRU",
        "outputId": "68d922cf-353d-4588-a378-f852cb7da63e"
      },
      "source": [
        "dfc.show()"
      ],
      "execution_count": null,
      "outputs": [
        {
          "output_type": "stream",
          "text": [
            "+---------+----------------+-----+---------+-------+---------------+------------------+---------+-----------+\n",
            "|id_pessoa|            nome|   rg|      cpf|id_sexo|id_estado_civil|             email| telefone|id_endereco|\n",
            "+---------+----------------+-----+---------+-------+---------------+------------------+---------+-----------+\n",
            "|        1|   felipe carlos|11064|343440908|      1|              1|      wh!email.net|1122-1111|          4|\n",
            "|        2|    eduardo lins| 9885|  4563019|      1|              1| whsssss@email.net|1122-1112|          5|\n",
            "|        3|   alexandre mar|10085| 56652019|      2|              1|  eeeeeh@email.net|1122-1113|          6|\n",
            "|        4|   Julio casares|33297|  7763019|      1|              1|eeeeeewh@email.net|1122-1114|          7|\n",
            "|        5|    mirande lean|14307|  4553140|      1|              2|  eeeewh@email.net|1122-1115|          8|\n",
            "|        6|   peter sanders|16418|  3440908|      1|              2|              null|1122-1116|          9|\n",
            "|        7|     lorente san|10429|    82351|      1|              2|   ssswh@email.net|1122-1117|         10|\n",
            "|        8|        jan lian|65628|675651918|      1|              2|      wh@email.net|1122-1118|         11|\n",
            "|        9|     marlos Cald|87520| 97874119|      3|              2|         email.net|1122-1119|         12|\n",
            "|       10|    Felipe feixe|16508|    49888|      3|              2|       whemail.net|     null|       null|\n",
            "+---------+----------------+-----+---------+-------+---------------+------------------+---------+-----------+\n",
            "\n"
          ],
          "name": "stdout"
        }
      ]
    },
    {
      "cell_type": "code",
      "metadata": {
        "colab": {
          "base_uri": "https://localhost:8080/"
        },
        "id": "4tVx10ZJ0Hb3",
        "outputId": "3b45bf0a-3594-4a75-8852-da6b2d43f5f5"
      },
      "source": [
        "dfc1.show()"
      ],
      "execution_count": null,
      "outputs": [
        {
          "output_type": "stream",
          "text": [
            "+----------+--------------+-----+---------+-------+---------------+------------------+---------+-----------+\n",
            "|id_cliente|          nome|   rg|      cpf|id_sexo|id_estado_civil|             email| telefone|id_endereco|\n",
            "+----------+--------------+-----+---------+-------+---------------+------------------+---------+-----------+\n",
            "|         1|  jose armando| 1211|343434343|      1|              1|      yh@email.com|2222-1111|          4|\n",
            "|         2| carlo eduardo|   32|  4556454|      1|              1| yhsssss@email.com|2222-1112|          5|\n",
            "|         3|    nina lopes|  232| 56645454|      2|              1|  eeeeeh@email.com|2222-1113|          6|\n",
            "|         4|   juan arturo|23444|  7756454|      1|              1|eeeeddyh@email.com|2222-1115|          7|\n",
            "|         5|micheal marley| 4454|  4546575|      1|              2|  ddddyh@email.com|2222-1111|          8|\n",
            "|         6|        jhonny| 6565|  3434343|      1|              2|              ssss|2122-1111|          9|\n",
            "|         7| carlo eduardo|  576|    75786|      1|              2|   sssyh@email.com|2223-1111|         10|\n",
            "|         8|      ian alan|55775|675645353|      1|              2|      yh@email.com|1122-1111|         11|\n",
            "|         9|   matheus cad|77667| 97867554|      3|              2|         email.com|2222-1dd1|         12|\n",
            "|        10|         lando| 6655|    43323|      3|              2|       yhemail.com|     null|       null|\n",
            "+----------+--------------+-----+---------+-------+---------------+------------------+---------+-----------+\n",
            "\n"
          ],
          "name": "stdout"
        }
      ]
    },
    {
      "cell_type": "code",
      "metadata": {
        "colab": {
          "base_uri": "https://localhost:8080/"
        },
        "id": "WC1sX-vT0JAL",
        "outputId": "173d0ab9-4b21-4a7d-ba34-210f6eda48a1"
      },
      "source": [
        "dfu = dfc.union(dfc1)\n",
        "dfu.show()"
      ],
      "execution_count": null,
      "outputs": [
        {
          "output_type": "stream",
          "text": [
            "+---------+----------------+-----+---------+-------+---------------+------------------+---------+-----------+\n",
            "|id_pessoa|            nome|   rg|      cpf|id_sexo|id_estado_civil|             email| telefone|id_endereco|\n",
            "+---------+----------------+-----+---------+-------+---------------+------------------+---------+-----------+\n",
            "|        1|   felipe carlos|11064|343440908|      1|              1|      wh!email.net|1122-1111|          4|\n",
            "|        2|    eduardo lins| 9885|  4563019|      1|              1| whsssss@email.net|1122-1112|          5|\n",
            "|        3|   alexandre mar|10085| 56652019|      2|              1|  eeeeeh@email.net|1122-1113|          6|\n",
            "|        4|   Julio casares|33297|  7763019|      1|              1|eeeeeewh@email.net|1122-1114|          7|\n",
            "|        5|    mirande lean|14307|  4553140|      1|              2|  eeeewh@email.net|1122-1115|          8|\n",
            "|        6|   peter sanders|16418|  3440908|      1|              2|              null|1122-1116|          9|\n",
            "|        7|     lorente san|10429|    82351|      1|              2|   ssswh@email.net|1122-1117|         10|\n",
            "|        8|        jan lian|65628|675651918|      1|              2|      wh@email.net|1122-1118|         11|\n",
            "|        9|     marlos Cald|87520| 97874119|      3|              2|         email.net|1122-1119|         12|\n",
            "|       10|    Felipe feixe|16508|    49888|      3|              2|       whemail.net|     null|       null|\n",
            "|        1|    jose armando| 1211|343434343|      1|              1|      yh@email.com|2222-1111|          4|\n",
            "|        2|   carlo eduardo|   32|  4556454|      1|              1| yhsssss@email.com|2222-1112|          5|\n",
            "|        3|      nina lopes|  232| 56645454|      2|              1|  eeeeeh@email.com|2222-1113|          6|\n",
            "|        4|     juan arturo|23444|  7756454|      1|              1|eeeeddyh@email.com|2222-1115|          7|\n",
            "|        5|  micheal marley| 4454|  4546575|      1|              2|  ddddyh@email.com|2222-1111|          8|\n",
            "|        6|          jhonny| 6565|  3434343|      1|              2|              ssss|2122-1111|          9|\n",
            "|        7|   carlo eduardo|  576|    75786|      1|              2|   sssyh@email.com|2223-1111|         10|\n",
            "|        8|        ian alan|55775|675645353|      1|              2|      yh@email.com|1122-1111|         11|\n",
            "|        9|     matheus cad|77667| 97867554|      3|              2|         email.com|2222-1dd1|         12|\n",
            "|       10|           lando| 6655|    43323|      3|              2|       yhemail.com|     null|       null|\n",
            "+---------+----------------+-----+---------+-------+---------------+------------------+---------+-----------+\n",
            "\n"
          ],
          "name": "stdout"
        }
      ]
    },
    {
      "cell_type": "code",
      "metadata": {
        "colab": {
          "base_uri": "https://localhost:8080/"
        },
        "id": "2fKlPmoQ0Z3c",
        "outputId": "d8af50dd-c74f-4482-918d-2db0ff990004"
      },
      "source": [
        "dfn.show()"
      ],
      "execution_count": null,
      "outputs": [
        {
          "output_type": "stream",
          "text": [
            "+-------+---------+----------+--------------+\n",
            "|id_nota|id_pessoa|      data|id_consultorio|\n",
            "+-------+---------+----------+--------------+\n",
            "|      1|        1|01/01/2020|             1|\n",
            "|      2|        2|01/01/2020|             2|\n",
            "|      3|        3|01/01/2020|             3|\n",
            "|      4|        4|02/01/2020|             1|\n",
            "|      5|        5|02/01/2020|             2|\n",
            "|      6|        6|02/01/2020|             3|\n",
            "|      7|        7|02/01/2020|             1|\n",
            "|      8|        8|01/02/2020|             2|\n",
            "|      9|        9|01/02/2020|             3|\n",
            "|     10|       10|01/02/2020|             1|\n",
            "|     11|        1|01/02/2020|             2|\n",
            "|     12|        2|01/02/2020|             3|\n",
            "|     13|        3|01/02/2020|             1|\n",
            "|     14|        4|01/02/2020|             2|\n",
            "|     15|        5|01/02/2020|             3|\n",
            "|     16|        6|01/02/2020|             1|\n",
            "|     17|        7|03/03/2020|             2|\n",
            "|     18|        8|03/03/2020|             3|\n",
            "|     19|        9|03/03/2020|             1|\n",
            "|     20|       10|03/03/2020|             2|\n",
            "+-------+---------+----------+--------------+\n",
            "only showing top 20 rows\n",
            "\n"
          ],
          "name": "stdout"
        }
      ]
    },
    {
      "cell_type": "code",
      "metadata": {
        "colab": {
          "base_uri": "https://localhost:8080/"
        },
        "id": "IqfBPLZe0l3z",
        "outputId": "84bb0a8c-d2de-4d0c-f3f4-9cd3880fc55f"
      },
      "source": [
        "dfj = dfc.join(dfn,(dfc.id_pessoa==dfn.id_pessoa),how='left')\n",
        "dfj = dfc.join(dfn,\"id_pessoa\",how='inner')\n",
        "dfj.show()"
      ],
      "execution_count": null,
      "outputs": [
        {
          "output_type": "stream",
          "text": [
            "+---------+----------------+-----+---------+-------+---------------+------------------+---------+-----------+-------+----------+--------------+\n",
            "|id_pessoa|            nome|   rg|      cpf|id_sexo|id_estado_civil|             email| telefone|id_endereco|id_nota|      data|id_consultorio|\n",
            "+---------+----------------+-----+---------+-------+---------------+------------------+---------+-----------+-------+----------+--------------+\n",
            "|        1|   felipe carlos|11064|343440908|      1|              1|      wh!email.net|1122-1111|          4|      1|01/01/2020|             1|\n",
            "|        2|    eduardo lins| 9885|  4563019|      1|              1| whsssss@email.net|1122-1112|          5|      2|01/01/2020|             2|\n",
            "|        3|   alexandre mar|10085| 56652019|      2|              1|  eeeeeh@email.net|1122-1113|          6|      3|01/01/2020|             3|\n",
            "|        4|   Julio casares|33297|  7763019|      1|              1|eeeeeewh@email.net|1122-1114|          7|      4|02/01/2020|             1|\n",
            "|        5|    mirande lean|14307|  4553140|      1|              2|  eeeewh@email.net|1122-1115|          8|      5|02/01/2020|             2|\n",
            "|        6|   peter sanders|16418|  3440908|      1|              2|              null|1122-1116|          9|      6|02/01/2020|             3|\n",
            "|        7|     lorente san|10429|    82351|      1|              2|   ssswh@email.net|1122-1117|         10|      7|02/01/2020|             1|\n",
            "|        8|        jan lian|65628|675651918|      1|              2|      wh@email.net|1122-1118|         11|      8|01/02/2020|             2|\n",
            "|        9|     marlos Cald|87520| 97874119|      3|              2|         email.net|1122-1119|         12|      9|01/02/2020|             3|\n",
            "|       10|    Felipe feixe|16508|    49888|      3|              2|       whemail.net|     null|       null|     10|01/02/2020|             1|\n",
            "|        1|   felipe carlos|11064|343440908|      1|              1|      wh!email.net|1122-1111|          4|     11|01/02/2020|             2|\n",
            "|        2|    eduardo lins| 9885|  4563019|      1|              1| whsssss@email.net|1122-1112|          5|     12|01/02/2020|             3|\n",
            "|        3|   alexandre mar|10085| 56652019|      2|              1|  eeeeeh@email.net|1122-1113|          6|     13|01/02/2020|             1|\n",
            "|        4|   Julio casares|33297|  7763019|      1|              1|eeeeeewh@email.net|1122-1114|          7|     14|01/02/2020|             2|\n",
            "|        5|    mirande lean|14307|  4553140|      1|              2|  eeeewh@email.net|1122-1115|          8|     15|01/02/2020|             3|\n",
            "|        6|   peter sanders|16418|  3440908|      1|              2|              null|1122-1116|          9|     16|01/02/2020|             1|\n",
            "|        7|     lorente san|10429|    82351|      1|              2|   ssswh@email.net|1122-1117|         10|     17|03/03/2020|             2|\n",
            "|        8|        jan lian|65628|675651918|      1|              2|      wh@email.net|1122-1118|         11|     18|03/03/2020|             3|\n",
            "|        9|     marlos Cald|87520| 97874119|      3|              2|         email.net|1122-1119|         12|     19|03/03/2020|             1|\n",
            "|       10|    Felipe feixe|16508|    49888|      3|              2|       whemail.net|     null|       null|     20|03/03/2020|             2|\n",
            "+---------+----------------+-----+---------+-------+---------------+------------------+---------+-----------+-------+----------+--------------+\n",
            "only showing top 20 rows\n",
            "\n"
          ],
          "name": "stdout"
        }
      ]
    },
    {
      "cell_type": "code",
      "metadata": {
        "id": "stOewLL-02XF"
      },
      "source": [],
      "execution_count": null,
      "outputs": []
    }
  ]
}