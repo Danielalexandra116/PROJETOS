{
  "nbformat": 4,
  "nbformat_minor": 0,
  "metadata": {
    "colab": {
      "provenance": []
    },
    "kernelspec": {
      "name": "python3",
      "display_name": "Python 3"
    },
    "language_info": {
      "name": "python"
    }
  },
  "cells": [
    {
      "cell_type": "markdown",
      "source": [
        "#Camila Lima Ferreira de Souza - Ra: 2100218\n",
        "#Daniela Alexandra da Silva- Ra: 2100282\n",
        "#Julia Camila Matias de Araújo - Ra: 2100236\n",
        "#Guilherme Silva Monteiro - Ra: 2100299"
      ],
      "metadata": {
        "id": "q3L0T5BCIs-k"
      }
    },
    {
      "cell_type": "markdown",
      "source": [
        "Entendimento dos Dados\n",
        "\n",
        "-Qual o formato dos dados? ✅ CSV - \n",
        "RangeIndex: 62630 entries, 0 to 62629\n",
        "Data columns (total 16 columns):\n",
        "              #Column                                       #Dtype  \n",
        "---  ------ --------------  -----  \n",
        " 0   INDICE                                                 int64  \n",
        " 1   UTC - CARIMBO DE DATA E HORA - SEGUNDOS                int64  \n",
        " 2   TEMPERATURA DO AR [C]                                  float64\n",
        " 3   UMIDADE DO AR [%]                                      float64\n",
        " 4   TVOC[ppb] TOTAL DE COMPOSTOS ORGANICOS                 int64  \n",
        " 5   eCO2[ppm] CONCENTRAÇÃO EQUIVALENTE DE CO2              int64  \n",
        " 6   H2 HIDROGENIO MOLECULAR BRUTO                          int64  \n",
        " 7   GAS ETANOL BRUTO                                       int64  \n",
        " 8   [hPa] PRESÃO DO AR                                     float64\n",
        " 9   PM1.0 TAMANHO DO MATERIAL PARTICULADO                  float64\n",
        " 10  PM2.5 TAMANHO DO MATERIAL PARTICULADO                  float64\n",
        " 11  NC0.5 CONCENTRAÇÃO NÚMERICA DE MATERIAL PARTICULADO    float64\n",
        " 12  NC1.0 CONCENTRAÇÃO NÚMERICA DE MATERIAL PARTICULADO    object \n",
        " 13  NC2.5 CONCENTRAÇÃO NÚMERICA DE MATERIAL PARTICULADO    object \n",
        " 14  CNT CONTADOR DE AMOSTRA                                int64  \n",
        " 15  ALARME DE INCENDIO                                     int64  \n",
        "dtypes: float64(6), int64(8), object(2)\n",
        "\n",
        "– Quantos registros existem? ✅ \n",
        "\n",
        "  São 62630 linhas e 16 colunas.\n",
        "\n",
        "\n",
        "– Qual campo é um candidato a alvo?  \n",
        "  ALARME DE INCENDIO\n",
        "\n",
        "– Quantos vazios existem em cada atributo? \n",
        "  Não existem vazios.\n",
        "\n",
        "– Qual a distribuição de (DETECÇÃO FUMAÇA:) ?\n",
        "\n",
        "#Sem risco de incendio 0 = 17873      \n",
        "#Com risco de incendio 1 = 44757"
      ],
      "metadata": {
        "id": "M4ybQ8sRI2GW"
      }
    },
    {
      "cell_type": "code",
      "source": [
        "#Importando as bibliotecas para uso\n",
        "import pandas as pd\n",
        "import numpy as np\n",
        "from sklearn.model_selection import train_test_split\n",
        "from sklearn.ensemble import RandomForestClassifier\n",
        "from sklearn.metrics import classification_report\n",
        "from collections import Counter\n",
        "import matplotlib.pyplot as plt\n",
        "import seaborn as sns\n",
        "\n",
        "# Over sampling and under sampling\n",
        "from imblearn.over_sampling import RandomOverSampler, SMOTE\n",
        "dataset = pd.read_csv('/content/smoke_detection_iot.csv', sep=';') \n",
        "dataset"
      ],
      "metadata": {
        "id": "KXgdT9tSIhzr",
        "colab": {
          "base_uri": "https://localhost:8080/",
          "height": 593
        },
        "outputId": "c3243b09-2668-45cd-8dd2-714feb4c4326"
      },
      "execution_count": 1,
      "outputs": [
        {
          "output_type": "stream",
          "name": "stderr",
          "text": [
            "/usr/local/lib/python3.7/dist-packages/IPython/core/interactiveshell.py:3326: DtypeWarning: Columns (12,13) have mixed types.Specify dtype option on import or set low_memory=False.\n",
            "  exec(code_obj, self.user_global_ns, self.user_ns)\n"
          ]
        },
        {
          "output_type": "execute_result",
          "data": {
            "text/plain": [
              "       INDICE  UTC - CARIMBO DE DATA E HORA - SEGUNDOS  TEMPERATURA DO AR [C]  \\\n",
              "0           0                               1654733331                 20.000   \n",
              "1           1                               1654733332                 20.015   \n",
              "2           2                               1654733333                 20.029   \n",
              "3           3                               1654733334                 20.044   \n",
              "4           4                               1654733335                 20.059   \n",
              "...       ...                                      ...                    ...   \n",
              "62625   62625                               1655130047                 18.438   \n",
              "62626   62626                               1655130048                 18.653   \n",
              "62627   62627                               1655130049                 18.867   \n",
              "62628   62628                               1655130050                 19.083   \n",
              "62629   62629                               1655130051                 19.299   \n",
              "\n",
              "       UMIDADE DO AR [%]  TVOC[ppb] TOTAL DE COMPOSTOS ORGANICOS   \\\n",
              "0                  57.36                                        0   \n",
              "1                  56.67                                        0   \n",
              "2                  55.96                                        0   \n",
              "3                  55.28                                        0   \n",
              "4                  54.69                                        0   \n",
              "...                  ...                                      ...   \n",
              "62625              15.79                                      625   \n",
              "62626              15.87                                      612   \n",
              "62627              15.84                                      627   \n",
              "62628              16.04                                      638   \n",
              "62629              16.52                                      643   \n",
              "\n",
              "       eCO2[ppm] CONCENTRAÇÃO EQUIVALENTE DE CO2  \\\n",
              "0                                            400   \n",
              "1                                            400   \n",
              "2                                            400   \n",
              "3                                            400   \n",
              "4                                            400   \n",
              "...                                          ...   \n",
              "62625                                        400   \n",
              "62626                                        400   \n",
              "62627                                        400   \n",
              "62628                                        400   \n",
              "62629                                        400   \n",
              "\n",
              "       H2 HIDROGENIO MOLECULAR BRUTO  GAS ETANOL BRUTO  [hPa] PRESÃO DO AR  \\\n",
              "0                              12306             18520             939.735   \n",
              "1                              12345             18651             939.744   \n",
              "2                              12374             18764             939.738   \n",
              "3                              12390             18849             939.736   \n",
              "4                              12403             18921             939.744   \n",
              "...                              ...               ...                 ...   \n",
              "62625                          13723             20569             936.670   \n",
              "62626                          13731             20588             936.678   \n",
              "62627                          13725             20582             936.687   \n",
              "62628                          13712             20566             936.680   \n",
              "62629                          13696             20543             936.676   \n",
              "\n",
              "       PM1.0 TAMANHO DO MATERIAL PARTICULADO  \\\n",
              "0                                       0.00   \n",
              "1                                       0.00   \n",
              "2                                       0.00   \n",
              "3                                       0.00   \n",
              "4                                       0.00   \n",
              "...                                      ...   \n",
              "62625                                   0.63   \n",
              "62626                                   0.61   \n",
              "62627                                   0.57   \n",
              "62628                                   0.57   \n",
              "62629                                   0.57   \n",
              "\n",
              "       PM2.5 TAMANHO DO MATERIAL PARTICULADO  \\\n",
              "0                                       0.00   \n",
              "1                                       0.00   \n",
              "2                                       0.00   \n",
              "3                                       0.00   \n",
              "4                                       0.00   \n",
              "...                                      ...   \n",
              "62625                                   0.65   \n",
              "62626                                   0.63   \n",
              "62627                                   0.60   \n",
              "62628                                   0.59   \n",
              "62629                                   0.59   \n",
              "\n",
              "       NC0.5 CONCENTRAÇÃO NÚMERICA DE MATERIAL PARTICULADO  \\\n",
              "0                                                   0.00     \n",
              "1                                                   0.00     \n",
              "2                                                   0.00     \n",
              "3                                                   0.00     \n",
              "4                                                   0.00     \n",
              "...                                                  ...     \n",
              "62625                                               4.32     \n",
              "62626                                               4.18     \n",
              "62627                                               3.95     \n",
              "62628                                               3.92     \n",
              "62629                                               3.90     \n",
              "\n",
              "      NC1.0 CONCENTRAÇÃO NÚMERICA DE MATERIAL PARTICULADO  \\\n",
              "0                                                    0.0    \n",
              "1                                                    0.0    \n",
              "2                                                    0.0    \n",
              "3                                                    0.0    \n",
              "4                                                    0.0    \n",
              "...                                                  ...    \n",
              "62625                                              0.673    \n",
              "62626                                              0.652    \n",
              "62627                                              0.617    \n",
              "62628                                              0.611    \n",
              "62629                                              0.607    \n",
              "\n",
              "      NC2.5 CONCENTRAÇÃO NÚMERICA DE MATERIAL PARTICULADO  \\\n",
              "0                                                    0.0    \n",
              "1                                                    0.0    \n",
              "2                                                    0.0    \n",
              "3                                                    0.0    \n",
              "4                                                    0.0    \n",
              "...                                                  ...    \n",
              "62625                                              0.015    \n",
              "62626                                              0.015    \n",
              "62627                                              0.014    \n",
              "62628                                              0.014    \n",
              "62629                                              0.014    \n",
              "\n",
              "       CNT CONTADOR DE AMOSTRA   ALARME DE INCENDIO  \n",
              "0                             0                   0  \n",
              "1                             1                   0  \n",
              "2                             2                   0  \n",
              "3                             3                   0  \n",
              "4                             4                   0  \n",
              "...                         ...                 ...  \n",
              "62625                      5739                   0  \n",
              "62626                      5740                   0  \n",
              "62627                      5741                   0  \n",
              "62628                      5742                   0  \n",
              "62629                      5743                   0  \n",
              "\n",
              "[62630 rows x 16 columns]"
            ],
            "text/html": [
              "\n",
              "  <div id=\"df-2e5522f1-1c8a-463e-ab15-83e6ad81b1f6\">\n",
              "    <div class=\"colab-df-container\">\n",
              "      <div>\n",
              "<style scoped>\n",
              "    .dataframe tbody tr th:only-of-type {\n",
              "        vertical-align: middle;\n",
              "    }\n",
              "\n",
              "    .dataframe tbody tr th {\n",
              "        vertical-align: top;\n",
              "    }\n",
              "\n",
              "    .dataframe thead th {\n",
              "        text-align: right;\n",
              "    }\n",
              "</style>\n",
              "<table border=\"1\" class=\"dataframe\">\n",
              "  <thead>\n",
              "    <tr style=\"text-align: right;\">\n",
              "      <th></th>\n",
              "      <th>INDICE</th>\n",
              "      <th>UTC - CARIMBO DE DATA E HORA - SEGUNDOS</th>\n",
              "      <th>TEMPERATURA DO AR [C]</th>\n",
              "      <th>UMIDADE DO AR [%]</th>\n",
              "      <th>TVOC[ppb] TOTAL DE COMPOSTOS ORGANICOS</th>\n",
              "      <th>eCO2[ppm] CONCENTRAÇÃO EQUIVALENTE DE CO2</th>\n",
              "      <th>H2 HIDROGENIO MOLECULAR BRUTO</th>\n",
              "      <th>GAS ETANOL BRUTO</th>\n",
              "      <th>[hPa] PRESÃO DO AR</th>\n",
              "      <th>PM1.0 TAMANHO DO MATERIAL PARTICULADO</th>\n",
              "      <th>PM2.5 TAMANHO DO MATERIAL PARTICULADO</th>\n",
              "      <th>NC0.5 CONCENTRAÇÃO NÚMERICA DE MATERIAL PARTICULADO</th>\n",
              "      <th>NC1.0 CONCENTRAÇÃO NÚMERICA DE MATERIAL PARTICULADO</th>\n",
              "      <th>NC2.5 CONCENTRAÇÃO NÚMERICA DE MATERIAL PARTICULADO</th>\n",
              "      <th>CNT CONTADOR DE AMOSTRA</th>\n",
              "      <th>ALARME DE INCENDIO</th>\n",
              "    </tr>\n",
              "  </thead>\n",
              "  <tbody>\n",
              "    <tr>\n",
              "      <th>0</th>\n",
              "      <td>0</td>\n",
              "      <td>1654733331</td>\n",
              "      <td>20.000</td>\n",
              "      <td>57.36</td>\n",
              "      <td>0</td>\n",
              "      <td>400</td>\n",
              "      <td>12306</td>\n",
              "      <td>18520</td>\n",
              "      <td>939.735</td>\n",
              "      <td>0.00</td>\n",
              "      <td>0.00</td>\n",
              "      <td>0.00</td>\n",
              "      <td>0.0</td>\n",
              "      <td>0.0</td>\n",
              "      <td>0</td>\n",
              "      <td>0</td>\n",
              "    </tr>\n",
              "    <tr>\n",
              "      <th>1</th>\n",
              "      <td>1</td>\n",
              "      <td>1654733332</td>\n",
              "      <td>20.015</td>\n",
              "      <td>56.67</td>\n",
              "      <td>0</td>\n",
              "      <td>400</td>\n",
              "      <td>12345</td>\n",
              "      <td>18651</td>\n",
              "      <td>939.744</td>\n",
              "      <td>0.00</td>\n",
              "      <td>0.00</td>\n",
              "      <td>0.00</td>\n",
              "      <td>0.0</td>\n",
              "      <td>0.0</td>\n",
              "      <td>1</td>\n",
              "      <td>0</td>\n",
              "    </tr>\n",
              "    <tr>\n",
              "      <th>2</th>\n",
              "      <td>2</td>\n",
              "      <td>1654733333</td>\n",
              "      <td>20.029</td>\n",
              "      <td>55.96</td>\n",
              "      <td>0</td>\n",
              "      <td>400</td>\n",
              "      <td>12374</td>\n",
              "      <td>18764</td>\n",
              "      <td>939.738</td>\n",
              "      <td>0.00</td>\n",
              "      <td>0.00</td>\n",
              "      <td>0.00</td>\n",
              "      <td>0.0</td>\n",
              "      <td>0.0</td>\n",
              "      <td>2</td>\n",
              "      <td>0</td>\n",
              "    </tr>\n",
              "    <tr>\n",
              "      <th>3</th>\n",
              "      <td>3</td>\n",
              "      <td>1654733334</td>\n",
              "      <td>20.044</td>\n",
              "      <td>55.28</td>\n",
              "      <td>0</td>\n",
              "      <td>400</td>\n",
              "      <td>12390</td>\n",
              "      <td>18849</td>\n",
              "      <td>939.736</td>\n",
              "      <td>0.00</td>\n",
              "      <td>0.00</td>\n",
              "      <td>0.00</td>\n",
              "      <td>0.0</td>\n",
              "      <td>0.0</td>\n",
              "      <td>3</td>\n",
              "      <td>0</td>\n",
              "    </tr>\n",
              "    <tr>\n",
              "      <th>4</th>\n",
              "      <td>4</td>\n",
              "      <td>1654733335</td>\n",
              "      <td>20.059</td>\n",
              "      <td>54.69</td>\n",
              "      <td>0</td>\n",
              "      <td>400</td>\n",
              "      <td>12403</td>\n",
              "      <td>18921</td>\n",
              "      <td>939.744</td>\n",
              "      <td>0.00</td>\n",
              "      <td>0.00</td>\n",
              "      <td>0.00</td>\n",
              "      <td>0.0</td>\n",
              "      <td>0.0</td>\n",
              "      <td>4</td>\n",
              "      <td>0</td>\n",
              "    </tr>\n",
              "    <tr>\n",
              "      <th>...</th>\n",
              "      <td>...</td>\n",
              "      <td>...</td>\n",
              "      <td>...</td>\n",
              "      <td>...</td>\n",
              "      <td>...</td>\n",
              "      <td>...</td>\n",
              "      <td>...</td>\n",
              "      <td>...</td>\n",
              "      <td>...</td>\n",
              "      <td>...</td>\n",
              "      <td>...</td>\n",
              "      <td>...</td>\n",
              "      <td>...</td>\n",
              "      <td>...</td>\n",
              "      <td>...</td>\n",
              "      <td>...</td>\n",
              "    </tr>\n",
              "    <tr>\n",
              "      <th>62625</th>\n",
              "      <td>62625</td>\n",
              "      <td>1655130047</td>\n",
              "      <td>18.438</td>\n",
              "      <td>15.79</td>\n",
              "      <td>625</td>\n",
              "      <td>400</td>\n",
              "      <td>13723</td>\n",
              "      <td>20569</td>\n",
              "      <td>936.670</td>\n",
              "      <td>0.63</td>\n",
              "      <td>0.65</td>\n",
              "      <td>4.32</td>\n",
              "      <td>0.673</td>\n",
              "      <td>0.015</td>\n",
              "      <td>5739</td>\n",
              "      <td>0</td>\n",
              "    </tr>\n",
              "    <tr>\n",
              "      <th>62626</th>\n",
              "      <td>62626</td>\n",
              "      <td>1655130048</td>\n",
              "      <td>18.653</td>\n",
              "      <td>15.87</td>\n",
              "      <td>612</td>\n",
              "      <td>400</td>\n",
              "      <td>13731</td>\n",
              "      <td>20588</td>\n",
              "      <td>936.678</td>\n",
              "      <td>0.61</td>\n",
              "      <td>0.63</td>\n",
              "      <td>4.18</td>\n",
              "      <td>0.652</td>\n",
              "      <td>0.015</td>\n",
              "      <td>5740</td>\n",
              "      <td>0</td>\n",
              "    </tr>\n",
              "    <tr>\n",
              "      <th>62627</th>\n",
              "      <td>62627</td>\n",
              "      <td>1655130049</td>\n",
              "      <td>18.867</td>\n",
              "      <td>15.84</td>\n",
              "      <td>627</td>\n",
              "      <td>400</td>\n",
              "      <td>13725</td>\n",
              "      <td>20582</td>\n",
              "      <td>936.687</td>\n",
              "      <td>0.57</td>\n",
              "      <td>0.60</td>\n",
              "      <td>3.95</td>\n",
              "      <td>0.617</td>\n",
              "      <td>0.014</td>\n",
              "      <td>5741</td>\n",
              "      <td>0</td>\n",
              "    </tr>\n",
              "    <tr>\n",
              "      <th>62628</th>\n",
              "      <td>62628</td>\n",
              "      <td>1655130050</td>\n",
              "      <td>19.083</td>\n",
              "      <td>16.04</td>\n",
              "      <td>638</td>\n",
              "      <td>400</td>\n",
              "      <td>13712</td>\n",
              "      <td>20566</td>\n",
              "      <td>936.680</td>\n",
              "      <td>0.57</td>\n",
              "      <td>0.59</td>\n",
              "      <td>3.92</td>\n",
              "      <td>0.611</td>\n",
              "      <td>0.014</td>\n",
              "      <td>5742</td>\n",
              "      <td>0</td>\n",
              "    </tr>\n",
              "    <tr>\n",
              "      <th>62629</th>\n",
              "      <td>62629</td>\n",
              "      <td>1655130051</td>\n",
              "      <td>19.299</td>\n",
              "      <td>16.52</td>\n",
              "      <td>643</td>\n",
              "      <td>400</td>\n",
              "      <td>13696</td>\n",
              "      <td>20543</td>\n",
              "      <td>936.676</td>\n",
              "      <td>0.57</td>\n",
              "      <td>0.59</td>\n",
              "      <td>3.90</td>\n",
              "      <td>0.607</td>\n",
              "      <td>0.014</td>\n",
              "      <td>5743</td>\n",
              "      <td>0</td>\n",
              "    </tr>\n",
              "  </tbody>\n",
              "</table>\n",
              "<p>62630 rows × 16 columns</p>\n",
              "</div>\n",
              "      <button class=\"colab-df-convert\" onclick=\"convertToInteractive('df-2e5522f1-1c8a-463e-ab15-83e6ad81b1f6')\"\n",
              "              title=\"Convert this dataframe to an interactive table.\"\n",
              "              style=\"display:none;\">\n",
              "        \n",
              "  <svg xmlns=\"http://www.w3.org/2000/svg\" height=\"24px\"viewBox=\"0 0 24 24\"\n",
              "       width=\"24px\">\n",
              "    <path d=\"M0 0h24v24H0V0z\" fill=\"none\"/>\n",
              "    <path d=\"M18.56 5.44l.94 2.06.94-2.06 2.06-.94-2.06-.94-.94-2.06-.94 2.06-2.06.94zm-11 1L8.5 8.5l.94-2.06 2.06-.94-2.06-.94L8.5 2.5l-.94 2.06-2.06.94zm10 10l.94 2.06.94-2.06 2.06-.94-2.06-.94-.94-2.06-.94 2.06-2.06.94z\"/><path d=\"M17.41 7.96l-1.37-1.37c-.4-.4-.92-.59-1.43-.59-.52 0-1.04.2-1.43.59L10.3 9.45l-7.72 7.72c-.78.78-.78 2.05 0 2.83L4 21.41c.39.39.9.59 1.41.59.51 0 1.02-.2 1.41-.59l7.78-7.78 2.81-2.81c.8-.78.8-2.07 0-2.86zM5.41 20L4 18.59l7.72-7.72 1.47 1.35L5.41 20z\"/>\n",
              "  </svg>\n",
              "      </button>\n",
              "      \n",
              "  <style>\n",
              "    .colab-df-container {\n",
              "      display:flex;\n",
              "      flex-wrap:wrap;\n",
              "      gap: 12px;\n",
              "    }\n",
              "\n",
              "    .colab-df-convert {\n",
              "      background-color: #E8F0FE;\n",
              "      border: none;\n",
              "      border-radius: 50%;\n",
              "      cursor: pointer;\n",
              "      display: none;\n",
              "      fill: #1967D2;\n",
              "      height: 32px;\n",
              "      padding: 0 0 0 0;\n",
              "      width: 32px;\n",
              "    }\n",
              "\n",
              "    .colab-df-convert:hover {\n",
              "      background-color: #E2EBFA;\n",
              "      box-shadow: 0px 1px 2px rgba(60, 64, 67, 0.3), 0px 1px 3px 1px rgba(60, 64, 67, 0.15);\n",
              "      fill: #174EA6;\n",
              "    }\n",
              "\n",
              "    [theme=dark] .colab-df-convert {\n",
              "      background-color: #3B4455;\n",
              "      fill: #D2E3FC;\n",
              "    }\n",
              "\n",
              "    [theme=dark] .colab-df-convert:hover {\n",
              "      background-color: #434B5C;\n",
              "      box-shadow: 0px 1px 3px 1px rgba(0, 0, 0, 0.15);\n",
              "      filter: drop-shadow(0px 1px 2px rgba(0, 0, 0, 0.3));\n",
              "      fill: #FFFFFF;\n",
              "    }\n",
              "  </style>\n",
              "\n",
              "      <script>\n",
              "        const buttonEl =\n",
              "          document.querySelector('#df-2e5522f1-1c8a-463e-ab15-83e6ad81b1f6 button.colab-df-convert');\n",
              "        buttonEl.style.display =\n",
              "          google.colab.kernel.accessAllowed ? 'block' : 'none';\n",
              "\n",
              "        async function convertToInteractive(key) {\n",
              "          const element = document.querySelector('#df-2e5522f1-1c8a-463e-ab15-83e6ad81b1f6');\n",
              "          const dataTable =\n",
              "            await google.colab.kernel.invokeFunction('convertToInteractive',\n",
              "                                                     [key], {});\n",
              "          if (!dataTable) return;\n",
              "\n",
              "          const docLinkHtml = 'Like what you see? Visit the ' +\n",
              "            '<a target=\"_blank\" href=https://colab.research.google.com/notebooks/data_table.ipynb>data table notebook</a>'\n",
              "            + ' to learn more about interactive tables.';\n",
              "          element.innerHTML = '';\n",
              "          dataTable['output_type'] = 'display_data';\n",
              "          await google.colab.output.renderOutput(dataTable, element);\n",
              "          const docLink = document.createElement('div');\n",
              "          docLink.innerHTML = docLinkHtml;\n",
              "          element.appendChild(docLink);\n",
              "        }\n",
              "      </script>\n",
              "    </div>\n",
              "  </div>\n",
              "  "
            ]
          },
          "metadata": {},
          "execution_count": 1
        }
      ]
    },
    {
      "cell_type": "code",
      "source": [
        "#Informações de todo a base de dados\n",
        "dataset.info()"
      ],
      "metadata": {
        "id": "oJM0jLWBIhvG",
        "colab": {
          "base_uri": "https://localhost:8080/"
        },
        "outputId": "f98cb395-fd37-4d72-d126-07dbc23c8249"
      },
      "execution_count": 2,
      "outputs": [
        {
          "output_type": "stream",
          "name": "stdout",
          "text": [
            "<class 'pandas.core.frame.DataFrame'>\n",
            "RangeIndex: 62630 entries, 0 to 62629\n",
            "Data columns (total 16 columns):\n",
            " #   Column                                               Non-Null Count  Dtype  \n",
            "---  ------                                               --------------  -----  \n",
            " 0   INDICE                                               62630 non-null  int64  \n",
            " 1   UTC - CARIMBO DE DATA E HORA - SEGUNDOS              62630 non-null  int64  \n",
            " 2   TEMPERATURA DO AR [C]                                62630 non-null  float64\n",
            " 3   UMIDADE DO AR [%]                                    62630 non-null  float64\n",
            " 4   TVOC[ppb] TOTAL DE COMPOSTOS ORGANICOS               62630 non-null  int64  \n",
            " 5   eCO2[ppm] CONCENTRAÇÃO EQUIVALENTE DE CO2            62630 non-null  int64  \n",
            " 6   H2 HIDROGENIO MOLECULAR BRUTO                        62630 non-null  int64  \n",
            " 7   GAS ETANOL BRUTO                                     62630 non-null  int64  \n",
            " 8   [hPa] PRESÃO DO AR                                   62630 non-null  float64\n",
            " 9   PM1.0 TAMANHO DO MATERIAL PARTICULADO                62630 non-null  float64\n",
            " 10  PM2.5 TAMANHO DO MATERIAL PARTICULADO                62630 non-null  float64\n",
            " 11  NC0.5 CONCENTRAÇÃO NÚMERICA DE MATERIAL PARTICULADO  62630 non-null  float64\n",
            " 12  NC1.0 CONCENTRAÇÃO NÚMERICA DE MATERIAL PARTICULADO  62630 non-null  object \n",
            " 13  NC2.5 CONCENTRAÇÃO NÚMERICA DE MATERIAL PARTICULADO  62630 non-null  object \n",
            " 14  CNT CONTADOR DE AMOSTRA                              62630 non-null  int64  \n",
            " 15  ALARME DE INCENDIO                                   62630 non-null  int64  \n",
            "dtypes: float64(6), int64(8), object(2)\n",
            "memory usage: 7.6+ MB\n"
          ]
        }
      ]
    },
    {
      "cell_type": "code",
      "source": [
        "# Trazendo as soma de valores NaN\n",
        "print(dataset.isna().sum())"
      ],
      "metadata": {
        "id": "dl6YBEvLIhss",
        "colab": {
          "base_uri": "https://localhost:8080/"
        },
        "outputId": "07ad0746-e83e-47f6-b295-12268d0d64b5"
      },
      "execution_count": 3,
      "outputs": [
        {
          "output_type": "stream",
          "name": "stdout",
          "text": [
            "INDICE                                                 0\n",
            "UTC - CARIMBO DE DATA E HORA - SEGUNDOS                0\n",
            "TEMPERATURA DO AR [C]                                  0\n",
            "UMIDADE DO AR [%]                                      0\n",
            "TVOC[ppb] TOTAL DE COMPOSTOS ORGANICOS                 0\n",
            "eCO2[ppm] CONCENTRAÇÃO EQUIVALENTE DE CO2              0\n",
            "H2 HIDROGENIO MOLECULAR BRUTO                          0\n",
            "GAS ETANOL BRUTO                                       0\n",
            "[hPa] PRESÃO DO AR                                     0\n",
            "PM1.0 TAMANHO DO MATERIAL PARTICULADO                  0\n",
            "PM2.5 TAMANHO DO MATERIAL PARTICULADO                  0\n",
            "NC0.5 CONCENTRAÇÃO NÚMERICA DE MATERIAL PARTICULADO    0\n",
            "NC1.0 CONCENTRAÇÃO NÚMERICA DE MATERIAL PARTICULADO    0\n",
            "NC2.5 CONCENTRAÇÃO NÚMERICA DE MATERIAL PARTICULADO    0\n",
            "CNT CONTADOR DE AMOSTRA                                0\n",
            "ALARME DE INCENDIO                                     0\n",
            "dtype: int64\n"
          ]
        }
      ]
    },
    {
      "cell_type": "code",
      "source": [
        " #converte os valores nulos ou 'nan' para 0\n",
        " dataset = dataset.fillna(0)\n"
      ],
      "metadata": {
        "id": "dfv7eNbHIhxk"
      },
      "execution_count": 4,
      "outputs": []
    },
    {
      "cell_type": "code",
      "source": [
        "#Agrupando a coluna ALVO e fazendo contagem de positivos e negativos\n",
        "dataset['ALARME DE INCENDIO'].groupby(by=dataset['ALARME DE INCENDIO']).count()"
      ],
      "metadata": {
        "colab": {
          "base_uri": "https://localhost:8080/"
        },
        "id": "P9KmF6KQIhqi",
        "outputId": "e280d5a4-a5c0-465a-bd9d-0999227b0b46"
      },
      "execution_count": 5,
      "outputs": [
        {
          "output_type": "execute_result",
          "data": {
            "text/plain": [
              "ALARME DE INCENDIO\n",
              "0    17873\n",
              "1    44757\n",
              "Name: ALARME DE INCENDIO, dtype: int64"
            ]
          },
          "metadata": {},
          "execution_count": 5
        }
      ]
    },
    {
      "cell_type": "code",
      "source": [
        "# Adicionando a coluna \"Alarme de Incendio\" como NOVA coluna \" ALVO\"\n",
        "dataset['ALVO'] = dataset['ALARME DE INCENDIO']"
      ],
      "metadata": {
        "id": "Gcz1XddeIhoe"
      },
      "execution_count": 6,
      "outputs": []
    },
    {
      "cell_type": "code",
      "source": [
        "# REMOVENDO COLUNAS QUE NÂO SERÃO UTILIZADAS \n",
        "dataset.drop(columns=['INDICE'],inplace= True)\n",
        "dataset.drop(columns=['ALARME DE INCENDIO'],inplace= True)\n",
        "dataset = dataset.drop('CNT CONTADOR DE AMOSTRA ', axis=1)\n",
        "dataset = dataset.drop('UTC - CARIMBO DE DATA E HORA - SEGUNDOS', axis=1)"
      ],
      "metadata": {
        "id": "KXJff4XuIhmX"
      },
      "execution_count": 7,
      "outputs": []
    },
    {
      "cell_type": "code",
      "source": [
        "#convertendo coluna objects para numerico\n",
        "dataset['NC1.0 CONCENTRAÇÃO NÚMERICA DE MATERIAL PARTICULADO'] = pd.to_numeric(dataset['NC1.0 CONCENTRAÇÃO NÚMERICA DE MATERIAL PARTICULADO'], errors = 'coerce')\n",
        "dataset['NC2.5 CONCENTRAÇÃO NÚMERICA DE MATERIAL PARTICULADO'] = pd.to_numeric(dataset['NC2.5 CONCENTRAÇÃO NÚMERICA DE MATERIAL PARTICULADO'], errors= 'coerce')"
      ],
      "metadata": {
        "id": "K-7SdV6KIhkQ"
      },
      "execution_count": 8,
      "outputs": []
    },
    {
      "cell_type": "code",
      "source": [
        "# Fazendo tratamento da coluna Umidade do Ar para nova coluna \" UMIDADE_TR\" minimo: 12:00  Max: 65.00\n",
        "dataset['UMIDADE_TR']  = [12.00 if np.isnan(x) or x <=12.00 else x  for x in dataset['UMIDADE DO AR [%]']]\n",
        "dataset['UMIDADE_TR']  = [65.00 if x >65.00 else x  for x in dataset['UMIDADE_TR']]\n",
        "dataset['UMIDADE_TR']  = [(x-12.00)/(65.00-12.00) for x in dataset['UMIDADE_TR']]"
      ],
      "metadata": {
        "id": "T42q5jrcIhiK"
      },
      "execution_count": 9,
      "outputs": []
    },
    {
      "cell_type": "markdown",
      "source": [
        "##SEPARANDO O TRATAMENTO DA COLUNA TEMPERATURA"
      ],
      "metadata": {
        "id": "WBL7MaleltzO"
      }
    },
    {
      "cell_type": "code",
      "source": [
        "#Utilizando o describe que traz as pricipais medidas como media, quartils, minimo e etc da coluna.\n",
        "dataset['TEMPERATURA DO AR [C]'].describe()"
      ],
      "metadata": {
        "colab": {
          "base_uri": "https://localhost:8080/"
        },
        "id": "e_KmiN-tfibK",
        "outputId": "d248716a-ad34-4f70-c10f-63d19de3e060"
      },
      "execution_count": 10,
      "outputs": [
        {
          "output_type": "execute_result",
          "data": {
            "text/plain": [
              "count    62630.000000\n",
              "mean        15.970424\n",
              "std         14.359576\n",
              "min        -22.010000\n",
              "25%         10.994250\n",
              "50%         20.130000\n",
              "75%         25.409500\n",
              "max         59.930000\n",
              "Name: TEMPERATURA DO AR [C], dtype: float64"
            ]
          },
          "metadata": {},
          "execution_count": 10
        }
      ]
    },
    {
      "cell_type": "code",
      "source": [
        "#Calculo para o primeiro e terceiro quartil\n",
        "Q3 = dataset['TEMPERATURA DO AR [C]'].describe()[6] #pegamos a sexta posição do describe, que equivale ao Q3\n",
        "Q1 = dataset['TEMPERATURA DO AR [C]'].describe()[4]#pegamos a quarta posição do describe, que equivale ao Q1\n",
        "IQR = Q3 - Q1 #Calculamos Q3 - Q1 para termos o intervalo\n",
        "media = dataset['TEMPERATURA DO AR [C]'].describe()[1] #pegamos a primeira posição do describe, que equivale a media\n",
        "media"
      ],
      "metadata": {
        "colab": {
          "base_uri": "https://localhost:8080/"
        },
        "id": "eRUELW7yfjQF",
        "outputId": "6e6823e0-5288-4122-faba-9889401a3e3d"
      },
      "execution_count": 11,
      "outputs": [
        {
          "output_type": "execute_result",
          "data": {
            "text/plain": [
              "15.97042358294747"
            ]
          },
          "metadata": {},
          "execution_count": 11
        }
      ]
    },
    {
      "cell_type": "code",
      "source": [
        "# Verificando os valores e trazendo os index\n",
        "max = dataset['TEMPERATURA DO AR [C]']>= ( media + 1.5 * IQR )\n",
        "min = dataset['TEMPERATURA DO AR [C]'] <= ( media - 1.5 * IQR )\n",
        "\n",
        "print('Valores (Index) que são Outliers')\n",
        "print( np.where(min) )\n",
        "print( np.where(max) )"
      ],
      "metadata": {
        "colab": {
          "base_uri": "https://localhost:8080/"
        },
        "id": "RQX9o8g3fjIr",
        "outputId": "739684b9-367a-48fc-9353-bb7933274a10"
      },
      "execution_count": 12,
      "outputs": [
        {
          "output_type": "stream",
          "name": "stdout",
          "text": [
            "Valores (Index) que são Outliers\n",
            "(array([ 4552,  4553,  4554, ..., 62480, 62481, 62482]),)\n",
            "(array([50354, 50355, 50356, ..., 56883, 56884, 56885]),)\n"
          ]
        }
      ]
    },
    {
      "cell_type": "code",
      "source": [
        "#Atribuindo uma nova variavel o Min e o Max como limites (Inferior e Superior)\n",
        "Men = media - 1.5 * IQR\n",
        "Mai = media + 1.5 * IQR\n",
        "\n",
        "Men, Mai"
      ],
      "metadata": {
        "colab": {
          "base_uri": "https://localhost:8080/"
        },
        "id": "1GSSwMnrfjF4",
        "outputId": "84c9f66e-bcb8-4d31-ec52-dcd64e5b110f"
      },
      "execution_count": 13,
      "outputs": [
        {
          "output_type": "execute_result",
          "data": {
            "text/plain": [
              "(-5.652451417052534, 37.593298582947476)"
            ]
          },
          "metadata": {},
          "execution_count": 13
        }
      ]
    },
    {
      "cell_type": "code",
      "source": [
        "# Fazendo tratamento da coluna Temperatura do Ar para nova coluna \" TEMPERATURA_TR\" minimo: (-5.65)   Max: 37.60\n",
        "dataset['TEMPERATURA_TR']  = [(-5.65) if np.isnan(x) or x <=(-5.65) else x  for x in dataset['TEMPERATURA DO AR [C]']]\n",
        "dataset['TEMPERATURA_TR']  = [37.60  if x >37.60 else x  for x in dataset['TEMPERATURA_TR']]\n",
        "dataset['TEMPERATURA_TR']  = [(x-(-5.65))/(37.60-(-5.65)) for x in dataset['TEMPERATURA_TR']]"
      ],
      "metadata": {
        "id": "iLsU7m7sIhf7"
      },
      "execution_count": 14,
      "outputs": []
    },
    {
      "cell_type": "markdown",
      "source": [
        "##SEPARANDO O TRATAMENTO DA COLUNA TOTAL DE COMPOSTOS ORGANICOS"
      ],
      "metadata": {
        "id": "_WIezqdgl95z"
      }
    },
    {
      "cell_type": "code",
      "source": [
        "#Utilizando o describe que traz as pricipais medidas como media, quartils, minimo e etc da coluna.\n",
        "dataset['TVOC[ppb] TOTAL DE COMPOSTOS ORGANICOS '].describe()"
      ],
      "metadata": {
        "id": "qcOogcYqSKvE",
        "colab": {
          "base_uri": "https://localhost:8080/"
        },
        "outputId": "c2a0df9d-6900-4dc7-ef70-c557e1789eb7"
      },
      "execution_count": 15,
      "outputs": [
        {
          "output_type": "execute_result",
          "data": {
            "text/plain": [
              "count    62630.000000\n",
              "mean      1942.057528\n",
              "std       7811.589055\n",
              "min          0.000000\n",
              "25%        130.000000\n",
              "50%        981.000000\n",
              "75%       1189.000000\n",
              "max      60000.000000\n",
              "Name: TVOC[ppb] TOTAL DE COMPOSTOS ORGANICOS , dtype: float64"
            ]
          },
          "metadata": {},
          "execution_count": 15
        }
      ]
    },
    {
      "cell_type": "code",
      "source": [
        "#Calculo para o primeiro e terceiro quartil\n",
        "Q3 = dataset['TVOC[ppb] TOTAL DE COMPOSTOS ORGANICOS '].describe()[6] #pegamos a sexta posição do describe, que equivale ao Q3\n",
        "Q1 = dataset['TVOC[ppb] TOTAL DE COMPOSTOS ORGANICOS '].describe()[4]#pegamos a quarta posição do describe, que equivale ao Q1\n",
        "IQR = Q3 - Q1 #Calculamos Q3 - Q1 para termos o intervalo\n",
        "media = dataset['TVOC[ppb] TOTAL DE COMPOSTOS ORGANICOS '].describe()[1] #pegamos a primeira posição do describe, que equivale a media\n",
        "media"
      ],
      "metadata": {
        "colab": {
          "base_uri": "https://localhost:8080/"
        },
        "id": "NfSHCJR4atGG",
        "outputId": "ff921abf-f4b8-4ec1-a259-056e1b76e472"
      },
      "execution_count": 16,
      "outputs": [
        {
          "output_type": "execute_result",
          "data": {
            "text/plain": [
              "1942.0575283410506"
            ]
          },
          "metadata": {},
          "execution_count": 16
        }
      ]
    },
    {
      "cell_type": "code",
      "source": [
        "# Verificando os valores e trazendo os index\n",
        "Superior = dataset['TVOC[ppb] TOTAL DE COMPOSTOS ORGANICOS '] >= ( media + 1.5 * IQR )\n",
        "Inferior = dataset['TVOC[ppb] TOTAL DE COMPOSTOS ORGANICOS '] <= ( media - 1.5 * IQR )\n",
        "\n",
        "print('Valores (Index) que são Outliers')\n",
        "print(np.where(Inferior))\n",
        "print(np.where(Superior))"
      ],
      "metadata": {
        "colab": {
          "base_uri": "https://localhost:8080/"
        },
        "id": "MjgZbjVkbBPR",
        "outputId": "7b6e61ae-5419-4e15-ffbe-4058796c4eda"
      },
      "execution_count": 17,
      "outputs": [
        {
          "output_type": "stream",
          "name": "stdout",
          "text": [
            "Valores (Index) que são Outliers\n",
            "(array([    0,     1,     2, ..., 61685, 61686, 61687]),)\n",
            "(array([50210, 50211, 50212, ..., 62339, 62340, 62341]),)\n"
          ]
        }
      ]
    },
    {
      "cell_type": "code",
      "source": [
        "#Atribuindo uma nova variavel o Min e o Max como limites (Inferior e Superior)\n",
        "Menor = media - 1.5 * IQR\n",
        "Maior = media + 1.5 * IQR\n",
        "\n",
        "Menor, Maior"
      ],
      "metadata": {
        "colab": {
          "base_uri": "https://localhost:8080/"
        },
        "id": "gAUraLgTbQTe",
        "outputId": "f3624ca1-25ef-4ca4-d08c-2d487b9dbf54"
      },
      "execution_count": 18,
      "outputs": [
        {
          "output_type": "execute_result",
          "data": {
            "text/plain": [
              "(353.55752834105056, 3530.557528341051)"
            ]
          },
          "metadata": {},
          "execution_count": 18
        }
      ]
    },
    {
      "cell_type": "code",
      "source": [
        "dataset['TOTAL DE COMPOSTOS ORGANICOS_TR']  = [353.55 if np.isnan(x) or x <=353.55 else x  for x in dataset['TVOC[ppb] TOTAL DE COMPOSTOS ORGANICOS ']]\n",
        "dataset['TOTAL DE COMPOSTOS ORGANICOS_TR']  = [3530.55 if x >=3530.55 else x  for x in dataset['TOTAL DE COMPOSTOS ORGANICOS_TR']]\n",
        "dataset['TOTAL DE COMPOSTOS ORGANICOS_TR']  = [(x-353.55)/(3530.55-353.55) for x in dataset['TOTAL DE COMPOSTOS ORGANICOS_TR']]"
      ],
      "metadata": {
        "id": "zWo5n0f0Ihdo"
      },
      "execution_count": 19,
      "outputs": []
    },
    {
      "cell_type": "markdown",
      "source": [
        "##SEPARANDO O TRATAMENTO DA COLUNA CONCENTRAÇÃO DE GAS CARBONO (CO²)"
      ],
      "metadata": {
        "id": "AppvLBc0mFoR"
      }
    },
    {
      "cell_type": "code",
      "source": [
        "#Utilizando o describe que traz as pricipais medidas como media, quartils, minimo e etc da coluna.\n",
        "dataset['eCO2[ppm] CONCENTRAÇÃO EQUIVALENTE DE CO2'].describe()"
      ],
      "metadata": {
        "id": "0FBUNnqxmsXw",
        "colab": {
          "base_uri": "https://localhost:8080/"
        },
        "outputId": "f6d89c5e-d566-4066-8173-e556516df9c7"
      },
      "execution_count": 20,
      "outputs": [
        {
          "output_type": "execute_result",
          "data": {
            "text/plain": [
              "count    62630.000000\n",
              "mean       670.021044\n",
              "std       1905.885439\n",
              "min        400.000000\n",
              "25%        400.000000\n",
              "50%        400.000000\n",
              "75%        438.000000\n",
              "max      60000.000000\n",
              "Name: eCO2[ppm] CONCENTRAÇÃO EQUIVALENTE DE CO2, dtype: float64"
            ]
          },
          "metadata": {},
          "execution_count": 20
        }
      ]
    },
    {
      "cell_type": "code",
      "source": [
        "#Calculo para o primeiro e terceiro quartil\n",
        "Q3 = dataset['eCO2[ppm] CONCENTRAÇÃO EQUIVALENTE DE CO2'].describe()[6] #pegamos a sexta posição do describe, que equivale ao Q3\n",
        "Q1 = dataset['eCO2[ppm] CONCENTRAÇÃO EQUIVALENTE DE CO2'].describe()[4]#pegamos a quarta posição do describe, que equivale ao Q1\n",
        "IQR2 = Q3 - Q1 #Calculamos Q3 - Q1 para termos o intervalo\n",
        "media = dataset['eCO2[ppm] CONCENTRAÇÃO EQUIVALENTE DE CO2'].describe()[1] #pegamos a primeira posição do describe, que equivale a media\n",
        "media"
      ],
      "metadata": {
        "colab": {
          "base_uri": "https://localhost:8080/"
        },
        "id": "IvTVzKShmzX9",
        "outputId": "86ab3e6e-ca90-464d-ab6f-98512d256023"
      },
      "execution_count": 21,
      "outputs": [
        {
          "output_type": "execute_result",
          "data": {
            "text/plain": [
              "670.0210442280057"
            ]
          },
          "metadata": {},
          "execution_count": 21
        }
      ]
    },
    {
      "cell_type": "code",
      "source": [
        "# Verificando os valores e trazendo os index\n",
        "Superior2 = dataset['eCO2[ppm] CONCENTRAÇÃO EQUIVALENTE DE CO2'] >= ( Q3 + 1.5 * IQR )\n",
        "Inferior2 = dataset['eCO2[ppm] CONCENTRAÇÃO EQUIVALENTE DE CO2'] <= ( Q1 - 1.5 * IQR )\n",
        "\n",
        "print('Valores (Index) que são Outliers')\n",
        "print( np.where(Inferior2) )\n",
        "print( np.where(Superior2) )"
      ],
      "metadata": {
        "colab": {
          "base_uri": "https://localhost:8080/"
        },
        "id": "GyZ8uas8mzUe",
        "outputId": "bf11a8e5-8ed3-49f4-d25c-9816d8cfa6b3"
      },
      "execution_count": 22,
      "outputs": [
        {
          "output_type": "stream",
          "name": "stdout",
          "text": [
            "Valores (Index) que são Outliers\n",
            "(array([], dtype=int64),)\n",
            "(array([49997, 49998, 49999, ..., 62155, 62156, 62157]),)\n"
          ]
        }
      ]
    },
    {
      "cell_type": "code",
      "source": [
        "#Atribuindo uma nova variavel o Min e o Max como limites (Inferior e Superior)\n",
        "Menor2 = media - 1.5 * IQR2\n",
        "Maior2 = media + 1.5 * IQR2\n",
        "\n",
        "Menor2, Maior2"
      ],
      "metadata": {
        "colab": {
          "base_uri": "https://localhost:8080/"
        },
        "id": "ef5sxLM1mzSH",
        "outputId": "857b8544-b789-4184-f516-bce85055e428"
      },
      "execution_count": 23,
      "outputs": [
        {
          "output_type": "execute_result",
          "data": {
            "text/plain": [
              "(613.0210442280057, 727.0210442280057)"
            ]
          },
          "metadata": {},
          "execution_count": 23
        }
      ]
    },
    {
      "cell_type": "code",
      "source": [
        "dataset['CO2_TR']  = [613 if np.isnan(x) or x <=613 else x  for x in dataset['eCO2[ppm] CONCENTRAÇÃO EQUIVALENTE DE CO2']]\n",
        "dataset['CO2_TR']  = [727 if x >=727 else x  for x in dataset['CO2_TR']]\n",
        "dataset['CO2_TR']  = [(x-613)/(727-613) for x in dataset['CO2_TR']]"
      ],
      "metadata": {
        "id": "YJnCwhJrIhbu"
      },
      "execution_count": 24,
      "outputs": []
    },
    {
      "cell_type": "markdown",
      "source": [
        "##SEPARANDO O TRATAMENTO DA COLUNA HIDROGENIO"
      ],
      "metadata": {
        "id": "3qAPenwHmXAj"
      }
    },
    {
      "cell_type": "code",
      "source": [
        "dataset['HIDROGENIO_TR']  = [10700.00 if np.isnan(x) or x <=10700.00 else x  for x in dataset['H2 HIDROGENIO MOLECULAR BRUTO']]\n",
        "dataset['HIDROGENIO_TR']  = [13000.00 if x >13000.00 else x  for x in dataset['HIDROGENIO_TR']]\n",
        "dataset['HIDROGENIO_TR']  = [(x-10700.00)/(13000.00-10700.00) for x in dataset['HIDROGENIO_TR']]"
      ],
      "metadata": {
        "id": "woJw-RioIhZp"
      },
      "execution_count": 25,
      "outputs": []
    },
    {
      "cell_type": "markdown",
      "source": [
        "##SEPARANDO O TRATAMENTO DA COLUNA ETANOL"
      ],
      "metadata": {
        "id": "nTkFy0nkmbSm"
      }
    },
    {
      "cell_type": "code",
      "source": [
        "dataset['ETANOL_TR']  = [19400.00 if np.isnan(x) or x <=19400.00 else x  for x in dataset['GAS ETANOL BRUTO']]\n",
        "dataset['ETANOL_TR']  = [20300.00 if x >=20300.00 else x  for x in dataset['ETANOL_TR']]\n",
        "dataset['ETANOL_TR']  = [(x-19400.00)/(20300.00-19400.00) for x in dataset['ETANOL_TR']]"
      ],
      "metadata": {
        "id": "oeY2MLt-IhXR"
      },
      "execution_count": 26,
      "outputs": []
    },
    {
      "cell_type": "markdown",
      "source": [
        "##SEPARANDO O TRATAMENTO DA COLUNA PRESSÃO DO AR"
      ],
      "metadata": {
        "id": "kl-b-CbimeF7"
      }
    },
    {
      "cell_type": "code",
      "source": [
        "dataset['PRESSAO_DO_AR_TR']  = [(x-930.850)/(939.860-930.850) for x in dataset['[hPa] PRESÃO DO AR']]"
      ],
      "metadata": {
        "id": "dTVuKxTtKkWo"
      },
      "execution_count": 27,
      "outputs": []
    },
    {
      "cell_type": "markdown",
      "source": [
        "##SEPARANDO O TRATAMENTO DA COLUNA PM1.0 - TAMANHO DE MATERIAL PARTICULADO"
      ],
      "metadata": {
        "id": "I468cHZ4mice"
      }
    },
    {
      "cell_type": "code",
      "source": [
        "dataset['PM1.0_TR']  = [0 if np.isnan(x) or x <=0 else x for x in dataset['PM1.0 TAMANHO DO MATERIAL PARTICULADO']]\n",
        "dataset['PM1.0_TR']  = [100.00 if x >=100.00 else x  for x in dataset['PM1.0_TR']]\n",
        "dataset['PM1.0_TR']  = [(x-0)/(100.00-0) for x in dataset['PM1.0_TR']]"
      ],
      "metadata": {
        "id": "4gtBmblCKkTn"
      },
      "execution_count": 28,
      "outputs": []
    },
    {
      "cell_type": "markdown",
      "source": [
        "##SEPARANDO O TRATAMENTO DA COLUNA PM2.5 - TAMANHO DE MATERIAL PARTICULADO"
      ],
      "metadata": {
        "id": "yKZN3afDmqtM"
      }
    },
    {
      "cell_type": "code",
      "source": [
        "dataset['PM2.5_TR']  = [0 if np.isnan(x) or x <=0 else x for x in dataset['PM2.5 TAMANHO DO MATERIAL PARTICULADO']]\n",
        "dataset['PM2.5_TR']  = [100.00 if x >=100.00 else x for x in dataset['PM2.5_TR']]\n",
        "dataset['PM2.5_TR']  = [(x-0)/(100.00-0) for x in dataset['PM2.5_TR']]"
      ],
      "metadata": {
        "id": "mxLXzIQjKkRX"
      },
      "execution_count": 29,
      "outputs": []
    },
    {
      "cell_type": "markdown",
      "source": [
        "##SEPARANDO O TRATAMENTO DA COLUNA NC0.5 - CONCENTRAÇÃO NUMERICA MATERIAL PARTICULADO"
      ],
      "metadata": {
        "id": "hHk8tp2hmvgU"
      }
    },
    {
      "cell_type": "code",
      "source": [
        "dataset['NC0.5_TR']  = [0 if np.isnan(x) or x <=0 else x for x in dataset['NC0.5 CONCENTRAÇÃO NÚMERICA DE MATERIAL PARTICULADO']]\n",
        "dataset['NC0.5_TR']  = [100.00 if x >=100.00 else x  for x in dataset['NC0.5_TR']]\n",
        "dataset['NC0.5_TR']  = [(x-0)/(100.00-0) for x in dataset['NC0.5_TR']]"
      ],
      "metadata": {
        "id": "J719C-4_KkPB"
      },
      "execution_count": 30,
      "outputs": []
    },
    {
      "cell_type": "markdown",
      "source": [
        "##SEPARANDO O TRATAMENTO DA COLUNA NC1.0 - CONCENTRAÇÃO NUMERICA MATERIAL PARTICULADO"
      ],
      "metadata": {
        "id": "VpgN02H2m5wv"
      }
    },
    {
      "cell_type": "code",
      "source": [
        "dataset['NC1.0_TR']  = [0 if np.isnan(x) or x <=0 else x for x in dataset['NC1.0 CONCENTRAÇÃO NÚMERICA DE MATERIAL PARTICULADO']]\n",
        "dataset['NC1.0_TR']  = [1000.00 if x >=1000.00 else x  for x in dataset['NC1.0_TR']]\n",
        "dataset['NC1.0_TR']  = [(x-0)/(1000.00-0) for x in dataset['NC1.0_TR']]"
      ],
      "metadata": {
        "id": "PJSD4__qKkNn"
      },
      "execution_count": 31,
      "outputs": []
    },
    {
      "cell_type": "markdown",
      "source": [
        "##SEPARANDO O TRATAMENTO DA COLUNA NC2.5 - CONCENTRAÇÃO NUMERICA MATERIAL PARTICULADO"
      ],
      "metadata": {
        "id": "u2BvsTwSm-YP"
      }
    },
    {
      "cell_type": "code",
      "source": [
        "dataset['NC2.5_TR']  = [0 if np.isnan(x) or x <=0 else x for x in dataset['NC2.5 CONCENTRAÇÃO NÚMERICA DE MATERIAL PARTICULADO']]\n",
        "dataset['NC2.5_TR']  = [1000.00 if x >=1000.00 else x  for x in dataset['NC2.5_TR']]\n",
        "dataset['NC2.5_TR']  = [(x-0)/(1000.00-0) for x in dataset['NC2.5_TR']]"
      ],
      "metadata": {
        "id": "almooT81HjKa"
      },
      "execution_count": 32,
      "outputs": []
    },
    {
      "cell_type": "code",
      "source": [
        "#Utilizando o describe que traz as pricipais medidas como media, quartils, minimo e etc daS COLUNAS TRATADAS.\n",
        "dataset.describe()"
      ],
      "metadata": {
        "id": "njsrc2hIXfYA",
        "colab": {
          "base_uri": "https://localhost:8080/",
          "height": 463
        },
        "outputId": "e28c75bb-93e4-4e0b-e20b-01b5db463b3a"
      },
      "execution_count": 33,
      "outputs": [
        {
          "output_type": "execute_result",
          "data": {
            "text/plain": [
              "       TEMPERATURA DO AR [C]  UMIDADE DO AR [%]  \\\n",
              "count           62630.000000       62630.000000   \n",
              "mean               15.970424          48.539499   \n",
              "std                14.359576           8.865367   \n",
              "min               -22.010000          10.740000   \n",
              "25%                10.994250          47.530000   \n",
              "50%                20.130000          50.150000   \n",
              "75%                25.409500          53.240000   \n",
              "max                59.930000          75.200000   \n",
              "\n",
              "       TVOC[ppb] TOTAL DE COMPOSTOS ORGANICOS   \\\n",
              "count                             62630.000000   \n",
              "mean                               1942.057528   \n",
              "std                                7811.589055   \n",
              "min                                   0.000000   \n",
              "25%                                 130.000000   \n",
              "50%                                 981.000000   \n",
              "75%                                1189.000000   \n",
              "max                               60000.000000   \n",
              "\n",
              "       eCO2[ppm] CONCENTRAÇÃO EQUIVALENTE DE CO2  \\\n",
              "count                               62630.000000   \n",
              "mean                                  670.021044   \n",
              "std                                  1905.885439   \n",
              "min                                   400.000000   \n",
              "25%                                   400.000000   \n",
              "50%                                   400.000000   \n",
              "75%                                   438.000000   \n",
              "max                                 60000.000000   \n",
              "\n",
              "       H2 HIDROGENIO MOLECULAR BRUTO  GAS ETANOL BRUTO  [hPa] PRESÃO DO AR  \\\n",
              "count                   62630.000000      62630.000000        62630.000000   \n",
              "mean                    12942.453936      19754.257912          938.627649   \n",
              "std                       272.464305        609.513156            1.331344   \n",
              "min                     10668.000000      15317.000000          930.852000   \n",
              "25%                     12830.000000      19435.000000          938.700000   \n",
              "50%                     12924.000000      19501.000000          938.816000   \n",
              "75%                     13109.000000      20078.000000          939.418000   \n",
              "max                     13803.000000      21410.000000          939.861000   \n",
              "\n",
              "       PM1.0 TAMANHO DO MATERIAL PARTICULADO  \\\n",
              "count                           62630.000000   \n",
              "mean                              100.594309   \n",
              "std                               922.524245   \n",
              "min                                 0.000000   \n",
              "25%                                 1.280000   \n",
              "50%                                 1.810000   \n",
              "75%                                 2.090000   \n",
              "max                             14333.690000   \n",
              "\n",
              "       PM2.5 TAMANHO DO MATERIAL PARTICULADO  \\\n",
              "count                           62630.000000   \n",
              "mean                              184.467770   \n",
              "std                              1976.305615   \n",
              "min                                 0.000000   \n",
              "25%                                 1.340000   \n",
              "50%                                 1.880000   \n",
              "75%                                 2.180000   \n",
              "max                             45432.260000   \n",
              "\n",
              "       NC0.5 CONCENTRAÇÃO NÚMERICA DE MATERIAL PARTICULADO  ...  \\\n",
              "count                                       62630.000000    ...   \n",
              "mean                                          491.463608    ...   \n",
              "std                                          4265.661251    ...   \n",
              "min                                             0.000000    ...   \n",
              "25%                                             8.820000    ...   \n",
              "50%                                            12.450000    ...   \n",
              "75%                                            14.420000    ...   \n",
              "max                                         61482.030000    ...   \n",
              "\n",
              "       TOTAL DE COMPOSTOS ORGANICOS_TR        CO2_TR  HIDROGENIO_TR  \\\n",
              "count                     62630.000000  62630.000000   62630.000000   \n",
              "mean                          0.172199      0.075817       0.948668   \n",
              "std                           0.212639      0.244057       0.094444   \n",
              "min                           0.000000      0.000000       0.000000   \n",
              "25%                           0.000000      0.000000       0.926087   \n",
              "50%                           0.197498      0.000000       0.966957   \n",
              "75%                           0.262968      0.000000       1.000000   \n",
              "max                           1.000000      1.000000       1.000000   \n",
              "\n",
              "          ETANOL_TR  PRESSAO_DO_AR_TR      PM1.0_TR      PM2.5_TR  \\\n",
              "count  62630.000000      62630.000000  62630.000000  62630.000000   \n",
              "mean       0.384954          0.863224      0.036093      0.036836   \n",
              "std        0.391634          0.147763      0.136209      0.136535   \n",
              "min        0.000000          0.000222      0.000000      0.000000   \n",
              "25%        0.038889          0.871254      0.012800      0.013400   \n",
              "50%        0.112222          0.884129      0.018100      0.018800   \n",
              "75%        0.753333          0.950943      0.020900      0.021800   \n",
              "max        1.000000          1.000111      1.000000      1.000000   \n",
              "\n",
              "           NC0.5_TR      NC1.0_TR      NC2.5_TR  \n",
              "count  62630.000000  62630.000000  62630.000000  \n",
              "mean       0.131615      0.005173      0.002612  \n",
              "std        0.141202      0.051231      0.041139  \n",
              "min        0.000000      0.000000      0.000000  \n",
              "25%        0.088200      0.001206      0.000031  \n",
              "50%        0.124500      0.001927      0.000044  \n",
              "75%        0.144200      0.002230      0.000051  \n",
              "max        1.000000      1.000000      1.000000  \n",
              "\n",
              "[8 rows x 25 columns]"
            ],
            "text/html": [
              "\n",
              "  <div id=\"df-26afe3ee-faed-4048-9b33-5aaddf8ebd8e\">\n",
              "    <div class=\"colab-df-container\">\n",
              "      <div>\n",
              "<style scoped>\n",
              "    .dataframe tbody tr th:only-of-type {\n",
              "        vertical-align: middle;\n",
              "    }\n",
              "\n",
              "    .dataframe tbody tr th {\n",
              "        vertical-align: top;\n",
              "    }\n",
              "\n",
              "    .dataframe thead th {\n",
              "        text-align: right;\n",
              "    }\n",
              "</style>\n",
              "<table border=\"1\" class=\"dataframe\">\n",
              "  <thead>\n",
              "    <tr style=\"text-align: right;\">\n",
              "      <th></th>\n",
              "      <th>TEMPERATURA DO AR [C]</th>\n",
              "      <th>UMIDADE DO AR [%]</th>\n",
              "      <th>TVOC[ppb] TOTAL DE COMPOSTOS ORGANICOS</th>\n",
              "      <th>eCO2[ppm] CONCENTRAÇÃO EQUIVALENTE DE CO2</th>\n",
              "      <th>H2 HIDROGENIO MOLECULAR BRUTO</th>\n",
              "      <th>GAS ETANOL BRUTO</th>\n",
              "      <th>[hPa] PRESÃO DO AR</th>\n",
              "      <th>PM1.0 TAMANHO DO MATERIAL PARTICULADO</th>\n",
              "      <th>PM2.5 TAMANHO DO MATERIAL PARTICULADO</th>\n",
              "      <th>NC0.5 CONCENTRAÇÃO NÚMERICA DE MATERIAL PARTICULADO</th>\n",
              "      <th>...</th>\n",
              "      <th>TOTAL DE COMPOSTOS ORGANICOS_TR</th>\n",
              "      <th>CO2_TR</th>\n",
              "      <th>HIDROGENIO_TR</th>\n",
              "      <th>ETANOL_TR</th>\n",
              "      <th>PRESSAO_DO_AR_TR</th>\n",
              "      <th>PM1.0_TR</th>\n",
              "      <th>PM2.5_TR</th>\n",
              "      <th>NC0.5_TR</th>\n",
              "      <th>NC1.0_TR</th>\n",
              "      <th>NC2.5_TR</th>\n",
              "    </tr>\n",
              "  </thead>\n",
              "  <tbody>\n",
              "    <tr>\n",
              "      <th>count</th>\n",
              "      <td>62630.000000</td>\n",
              "      <td>62630.000000</td>\n",
              "      <td>62630.000000</td>\n",
              "      <td>62630.000000</td>\n",
              "      <td>62630.000000</td>\n",
              "      <td>62630.000000</td>\n",
              "      <td>62630.000000</td>\n",
              "      <td>62630.000000</td>\n",
              "      <td>62630.000000</td>\n",
              "      <td>62630.000000</td>\n",
              "      <td>...</td>\n",
              "      <td>62630.000000</td>\n",
              "      <td>62630.000000</td>\n",
              "      <td>62630.000000</td>\n",
              "      <td>62630.000000</td>\n",
              "      <td>62630.000000</td>\n",
              "      <td>62630.000000</td>\n",
              "      <td>62630.000000</td>\n",
              "      <td>62630.000000</td>\n",
              "      <td>62630.000000</td>\n",
              "      <td>62630.000000</td>\n",
              "    </tr>\n",
              "    <tr>\n",
              "      <th>mean</th>\n",
              "      <td>15.970424</td>\n",
              "      <td>48.539499</td>\n",
              "      <td>1942.057528</td>\n",
              "      <td>670.021044</td>\n",
              "      <td>12942.453936</td>\n",
              "      <td>19754.257912</td>\n",
              "      <td>938.627649</td>\n",
              "      <td>100.594309</td>\n",
              "      <td>184.467770</td>\n",
              "      <td>491.463608</td>\n",
              "      <td>...</td>\n",
              "      <td>0.172199</td>\n",
              "      <td>0.075817</td>\n",
              "      <td>0.948668</td>\n",
              "      <td>0.384954</td>\n",
              "      <td>0.863224</td>\n",
              "      <td>0.036093</td>\n",
              "      <td>0.036836</td>\n",
              "      <td>0.131615</td>\n",
              "      <td>0.005173</td>\n",
              "      <td>0.002612</td>\n",
              "    </tr>\n",
              "    <tr>\n",
              "      <th>std</th>\n",
              "      <td>14.359576</td>\n",
              "      <td>8.865367</td>\n",
              "      <td>7811.589055</td>\n",
              "      <td>1905.885439</td>\n",
              "      <td>272.464305</td>\n",
              "      <td>609.513156</td>\n",
              "      <td>1.331344</td>\n",
              "      <td>922.524245</td>\n",
              "      <td>1976.305615</td>\n",
              "      <td>4265.661251</td>\n",
              "      <td>...</td>\n",
              "      <td>0.212639</td>\n",
              "      <td>0.244057</td>\n",
              "      <td>0.094444</td>\n",
              "      <td>0.391634</td>\n",
              "      <td>0.147763</td>\n",
              "      <td>0.136209</td>\n",
              "      <td>0.136535</td>\n",
              "      <td>0.141202</td>\n",
              "      <td>0.051231</td>\n",
              "      <td>0.041139</td>\n",
              "    </tr>\n",
              "    <tr>\n",
              "      <th>min</th>\n",
              "      <td>-22.010000</td>\n",
              "      <td>10.740000</td>\n",
              "      <td>0.000000</td>\n",
              "      <td>400.000000</td>\n",
              "      <td>10668.000000</td>\n",
              "      <td>15317.000000</td>\n",
              "      <td>930.852000</td>\n",
              "      <td>0.000000</td>\n",
              "      <td>0.000000</td>\n",
              "      <td>0.000000</td>\n",
              "      <td>...</td>\n",
              "      <td>0.000000</td>\n",
              "      <td>0.000000</td>\n",
              "      <td>0.000000</td>\n",
              "      <td>0.000000</td>\n",
              "      <td>0.000222</td>\n",
              "      <td>0.000000</td>\n",
              "      <td>0.000000</td>\n",
              "      <td>0.000000</td>\n",
              "      <td>0.000000</td>\n",
              "      <td>0.000000</td>\n",
              "    </tr>\n",
              "    <tr>\n",
              "      <th>25%</th>\n",
              "      <td>10.994250</td>\n",
              "      <td>47.530000</td>\n",
              "      <td>130.000000</td>\n",
              "      <td>400.000000</td>\n",
              "      <td>12830.000000</td>\n",
              "      <td>19435.000000</td>\n",
              "      <td>938.700000</td>\n",
              "      <td>1.280000</td>\n",
              "      <td>1.340000</td>\n",
              "      <td>8.820000</td>\n",
              "      <td>...</td>\n",
              "      <td>0.000000</td>\n",
              "      <td>0.000000</td>\n",
              "      <td>0.926087</td>\n",
              "      <td>0.038889</td>\n",
              "      <td>0.871254</td>\n",
              "      <td>0.012800</td>\n",
              "      <td>0.013400</td>\n",
              "      <td>0.088200</td>\n",
              "      <td>0.001206</td>\n",
              "      <td>0.000031</td>\n",
              "    </tr>\n",
              "    <tr>\n",
              "      <th>50%</th>\n",
              "      <td>20.130000</td>\n",
              "      <td>50.150000</td>\n",
              "      <td>981.000000</td>\n",
              "      <td>400.000000</td>\n",
              "      <td>12924.000000</td>\n",
              "      <td>19501.000000</td>\n",
              "      <td>938.816000</td>\n",
              "      <td>1.810000</td>\n",
              "      <td>1.880000</td>\n",
              "      <td>12.450000</td>\n",
              "      <td>...</td>\n",
              "      <td>0.197498</td>\n",
              "      <td>0.000000</td>\n",
              "      <td>0.966957</td>\n",
              "      <td>0.112222</td>\n",
              "      <td>0.884129</td>\n",
              "      <td>0.018100</td>\n",
              "      <td>0.018800</td>\n",
              "      <td>0.124500</td>\n",
              "      <td>0.001927</td>\n",
              "      <td>0.000044</td>\n",
              "    </tr>\n",
              "    <tr>\n",
              "      <th>75%</th>\n",
              "      <td>25.409500</td>\n",
              "      <td>53.240000</td>\n",
              "      <td>1189.000000</td>\n",
              "      <td>438.000000</td>\n",
              "      <td>13109.000000</td>\n",
              "      <td>20078.000000</td>\n",
              "      <td>939.418000</td>\n",
              "      <td>2.090000</td>\n",
              "      <td>2.180000</td>\n",
              "      <td>14.420000</td>\n",
              "      <td>...</td>\n",
              "      <td>0.262968</td>\n",
              "      <td>0.000000</td>\n",
              "      <td>1.000000</td>\n",
              "      <td>0.753333</td>\n",
              "      <td>0.950943</td>\n",
              "      <td>0.020900</td>\n",
              "      <td>0.021800</td>\n",
              "      <td>0.144200</td>\n",
              "      <td>0.002230</td>\n",
              "      <td>0.000051</td>\n",
              "    </tr>\n",
              "    <tr>\n",
              "      <th>max</th>\n",
              "      <td>59.930000</td>\n",
              "      <td>75.200000</td>\n",
              "      <td>60000.000000</td>\n",
              "      <td>60000.000000</td>\n",
              "      <td>13803.000000</td>\n",
              "      <td>21410.000000</td>\n",
              "      <td>939.861000</td>\n",
              "      <td>14333.690000</td>\n",
              "      <td>45432.260000</td>\n",
              "      <td>61482.030000</td>\n",
              "      <td>...</td>\n",
              "      <td>1.000000</td>\n",
              "      <td>1.000000</td>\n",
              "      <td>1.000000</td>\n",
              "      <td>1.000000</td>\n",
              "      <td>1.000111</td>\n",
              "      <td>1.000000</td>\n",
              "      <td>1.000000</td>\n",
              "      <td>1.000000</td>\n",
              "      <td>1.000000</td>\n",
              "      <td>1.000000</td>\n",
              "    </tr>\n",
              "  </tbody>\n",
              "</table>\n",
              "<p>8 rows × 25 columns</p>\n",
              "</div>\n",
              "      <button class=\"colab-df-convert\" onclick=\"convertToInteractive('df-26afe3ee-faed-4048-9b33-5aaddf8ebd8e')\"\n",
              "              title=\"Convert this dataframe to an interactive table.\"\n",
              "              style=\"display:none;\">\n",
              "        \n",
              "  <svg xmlns=\"http://www.w3.org/2000/svg\" height=\"24px\"viewBox=\"0 0 24 24\"\n",
              "       width=\"24px\">\n",
              "    <path d=\"M0 0h24v24H0V0z\" fill=\"none\"/>\n",
              "    <path d=\"M18.56 5.44l.94 2.06.94-2.06 2.06-.94-2.06-.94-.94-2.06-.94 2.06-2.06.94zm-11 1L8.5 8.5l.94-2.06 2.06-.94-2.06-.94L8.5 2.5l-.94 2.06-2.06.94zm10 10l.94 2.06.94-2.06 2.06-.94-2.06-.94-.94-2.06-.94 2.06-2.06.94z\"/><path d=\"M17.41 7.96l-1.37-1.37c-.4-.4-.92-.59-1.43-.59-.52 0-1.04.2-1.43.59L10.3 9.45l-7.72 7.72c-.78.78-.78 2.05 0 2.83L4 21.41c.39.39.9.59 1.41.59.51 0 1.02-.2 1.41-.59l7.78-7.78 2.81-2.81c.8-.78.8-2.07 0-2.86zM5.41 20L4 18.59l7.72-7.72 1.47 1.35L5.41 20z\"/>\n",
              "  </svg>\n",
              "      </button>\n",
              "      \n",
              "  <style>\n",
              "    .colab-df-container {\n",
              "      display:flex;\n",
              "      flex-wrap:wrap;\n",
              "      gap: 12px;\n",
              "    }\n",
              "\n",
              "    .colab-df-convert {\n",
              "      background-color: #E8F0FE;\n",
              "      border: none;\n",
              "      border-radius: 50%;\n",
              "      cursor: pointer;\n",
              "      display: none;\n",
              "      fill: #1967D2;\n",
              "      height: 32px;\n",
              "      padding: 0 0 0 0;\n",
              "      width: 32px;\n",
              "    }\n",
              "\n",
              "    .colab-df-convert:hover {\n",
              "      background-color: #E2EBFA;\n",
              "      box-shadow: 0px 1px 2px rgba(60, 64, 67, 0.3), 0px 1px 3px 1px rgba(60, 64, 67, 0.15);\n",
              "      fill: #174EA6;\n",
              "    }\n",
              "\n",
              "    [theme=dark] .colab-df-convert {\n",
              "      background-color: #3B4455;\n",
              "      fill: #D2E3FC;\n",
              "    }\n",
              "\n",
              "    [theme=dark] .colab-df-convert:hover {\n",
              "      background-color: #434B5C;\n",
              "      box-shadow: 0px 1px 3px 1px rgba(0, 0, 0, 0.15);\n",
              "      filter: drop-shadow(0px 1px 2px rgba(0, 0, 0, 0.3));\n",
              "      fill: #FFFFFF;\n",
              "    }\n",
              "  </style>\n",
              "\n",
              "      <script>\n",
              "        const buttonEl =\n",
              "          document.querySelector('#df-26afe3ee-faed-4048-9b33-5aaddf8ebd8e button.colab-df-convert');\n",
              "        buttonEl.style.display =\n",
              "          google.colab.kernel.accessAllowed ? 'block' : 'none';\n",
              "\n",
              "        async function convertToInteractive(key) {\n",
              "          const element = document.querySelector('#df-26afe3ee-faed-4048-9b33-5aaddf8ebd8e');\n",
              "          const dataTable =\n",
              "            await google.colab.kernel.invokeFunction('convertToInteractive',\n",
              "                                                     [key], {});\n",
              "          if (!dataTable) return;\n",
              "\n",
              "          const docLinkHtml = 'Like what you see? Visit the ' +\n",
              "            '<a target=\"_blank\" href=https://colab.research.google.com/notebooks/data_table.ipynb>data table notebook</a>'\n",
              "            + ' to learn more about interactive tables.';\n",
              "          element.innerHTML = '';\n",
              "          dataTable['output_type'] = 'display_data';\n",
              "          await google.colab.output.renderOutput(dataTable, element);\n",
              "          const docLink = document.createElement('div');\n",
              "          docLink.innerHTML = docLinkHtml;\n",
              "          element.appendChild(docLink);\n",
              "        }\n",
              "      </script>\n",
              "    </div>\n",
              "  </div>\n",
              "  "
            ]
          },
          "metadata": {},
          "execution_count": 33
        }
      ]
    },
    {
      "cell_type": "code",
      "source": [
        "#PEGANDO AS COLUNAS\n",
        "dataset.columns"
      ],
      "metadata": {
        "colab": {
          "base_uri": "https://localhost:8080/"
        },
        "id": "MMQBcH5QKmQf",
        "outputId": "7bc68a1e-44ed-46c2-fbef-d95d8f4dfc30"
      },
      "execution_count": 34,
      "outputs": [
        {
          "output_type": "execute_result",
          "data": {
            "text/plain": [
              "Index(['TEMPERATURA DO AR [C]', 'UMIDADE DO AR [%]',\n",
              "       'TVOC[ppb] TOTAL DE COMPOSTOS ORGANICOS ',\n",
              "       'eCO2[ppm] CONCENTRAÇÃO EQUIVALENTE DE CO2',\n",
              "       'H2 HIDROGENIO MOLECULAR BRUTO', 'GAS ETANOL BRUTO',\n",
              "       '[hPa] PRESÃO DO AR', 'PM1.0 TAMANHO DO MATERIAL PARTICULADO',\n",
              "       'PM2.5 TAMANHO DO MATERIAL PARTICULADO',\n",
              "       'NC0.5 CONCENTRAÇÃO NÚMERICA DE MATERIAL PARTICULADO',\n",
              "       'NC1.0 CONCENTRAÇÃO NÚMERICA DE MATERIAL PARTICULADO',\n",
              "       'NC2.5 CONCENTRAÇÃO NÚMERICA DE MATERIAL PARTICULADO', 'ALVO',\n",
              "       'UMIDADE_TR', 'TEMPERATURA_TR', 'TOTAL DE COMPOSTOS ORGANICOS_TR',\n",
              "       'CO2_TR', 'HIDROGENIO_TR', 'ETANOL_TR', 'PRESSAO_DO_AR_TR', 'PM1.0_TR',\n",
              "       'PM2.5_TR', 'NC0.5_TR', 'NC1.0_TR', 'NC2.5_TR'],\n",
              "      dtype='object')"
            ]
          },
          "metadata": {},
          "execution_count": 34
        }
      ]
    },
    {
      "cell_type": "code",
      "source": [
        "#PEGANDO AS COLUNAS TRATADAS\n",
        "colunas_in = ['ALVO',\n",
        "          'CONJUNTO',\n",
        "        'UMIDADE_TR',\n",
        "    'TEMPERATURA_TR',\n",
        " 'TOTAL DE COMPOSTOS ORGANICOS_TR',\n",
        "         'CO2_TR', \n",
        "  'HIDROGENIO_TR', \n",
        "      'ETANOL_TR', \n",
        " 'PRESSAO_DO_AR_TR', \n",
        "         'PM1.0_TR',\n",
        "         'PM2.5_TR',\n",
        "         'NC0.5_TR', \n",
        "         'NC1.0_TR', \n",
        "         'NC2.5_TR']"
      ],
      "metadata": {
        "id": "fqdWrHcmHjAt"
      },
      "execution_count": 35,
      "outputs": []
    },
    {
      "cell_type": "code",
      "source": [
        "colunas_in"
      ],
      "metadata": {
        "colab": {
          "base_uri": "https://localhost:8080/"
        },
        "id": "kanLQ6JW9fyU",
        "outputId": "6f451281-0ed1-4404-c7b6-3f74c310fd82"
      },
      "execution_count": 36,
      "outputs": [
        {
          "output_type": "execute_result",
          "data": {
            "text/plain": [
              "['ALVO',\n",
              " 'CONJUNTO',\n",
              " 'UMIDADE_TR',\n",
              " 'TEMPERATURA_TR',\n",
              " 'TOTAL DE COMPOSTOS ORGANICOS_TR',\n",
              " 'CO2_TR',\n",
              " 'HIDROGENIO_TR',\n",
              " 'ETANOL_TR',\n",
              " 'PRESSAO_DO_AR_TR',\n",
              " 'PM1.0_TR',\n",
              " 'PM2.5_TR',\n",
              " 'NC0.5_TR',\n",
              " 'NC1.0_TR',\n",
              " 'NC2.5_TR']"
            ]
          },
          "metadata": {},
          "execution_count": 36
        }
      ]
    },
    {
      "cell_type": "code",
      "source": [
        "#separar treino e teste\n",
        "from sklearn.model_selection import train_test_split\n",
        "train, test = train_test_split(dataset, test_size=0.30, random_state=88)\n",
        "train.insert(0, \"CONJUNTO\",\"TREINO\")#criar coluna de treinamento\n",
        "test.insert(0, \"CONJUNTO\",\"TESTE\")#criar coluna de teste\n",
        "dataset = pd.concat([test,train])\n",
        "dataset.to_csv('pre_processamento.csv', sep='\\t') #Exporta para CSV"
      ],
      "metadata": {
        "id": "QqrtWXRMHIgK"
      },
      "execution_count": 37,
      "outputs": []
    },
    {
      "cell_type": "code",
      "source": [
        "#separando conjuntos\n",
        "x_train = dataset.query(\"CONJUNTO =='TREINO'\")\n",
        "x_test = dataset.query(\"CONJUNTO =='TESTE'\")\n",
        "x_train = x_train[colunas_in]\n",
        "x_test = x_test[colunas_in]"
      ],
      "metadata": {
        "id": "BXD0NNDfI6qd"
      },
      "execution_count": 38,
      "outputs": []
    },
    {
      "cell_type": "code",
      "source": [
        "#REFAZER  E RETIRAR OS ALVOS\n",
        "y_train = x_train['ALVO']\n",
        "y_test =  x_test['ALVO']\n",
        "\n",
        "#excluindo o alvo do x pois não usamos\n",
        "del x_train['ALVO']\n",
        "del x_test['ALVO']\n",
        "\n",
        "del x_train['CONJUNTO']\n",
        "del x_test['CONJUNTO']"
      ],
      "metadata": {
        "id": "HRIFa4tiI8th"
      },
      "execution_count": 39,
      "outputs": []
    },
    {
      "cell_type": "code",
      "source": [
        "#selecionar as colunas/atributos principais \"fazer\"\n",
        "#---------------------------------------------------------------------------\n",
        "## Selecionando Atributos com RFE - Recursive Feature Elimination\n",
        "#---------------------------------------------------------------------------\n",
        "# feature extraction\n",
        "from sklearn.linear_model import LogisticRegression\n",
        "from sklearn.feature_selection import RFE\n",
        "\n",
        "model = LogisticRegression()\n",
        "selected = RFE(model,step=1,n_features_to_select=12).fit(x_train, y_train)\n",
        "\n",
        "print('--------------------------------------------------')\n",
        "print('---  SELEÇÃO DE VARIÁVEIS  ---')\n",
        "print('--------------------------------------------------')\n",
        "print(\"Quantidade de Variáveis: %d\" % selected.n_features_)\n",
        "used_cols = []\n",
        "for i in range(0, len(selected.support_)):\n",
        "    if selected.support_[i]: \n",
        "        used_cols.append(x_train.columns[i]) \n",
        "        print('             -> {:30}     '.format(x_train.columns[i]))\n",
        "print('--------------------------------------------------')\n",
        "\n",
        "x_train = x_train[used_cols]     # Carrega colunas de entrada selecionadas por RFE\n",
        "x_test = x_test[used_cols]       # Carrega colunas de entrada selecionadas por RFE\n"
      ],
      "metadata": {
        "id": "ziEMyWvDM1Rt",
        "colab": {
          "base_uri": "https://localhost:8080/"
        },
        "outputId": "8568b027-3da0-4819-e4b1-99adadee0c68"
      },
      "execution_count": 40,
      "outputs": [
        {
          "output_type": "stream",
          "name": "stdout",
          "text": [
            "--------------------------------------------------\n",
            "---  SELEÇÃO DE VARIÁVEIS  ---\n",
            "--------------------------------------------------\n",
            "Quantidade de Variáveis: 12\n",
            "             -> UMIDADE_TR                         \n",
            "             -> TEMPERATURA_TR                     \n",
            "             -> TOTAL DE COMPOSTOS ORGANICOS_TR     \n",
            "             -> CO2_TR                             \n",
            "             -> HIDROGENIO_TR                      \n",
            "             -> ETANOL_TR                          \n",
            "             -> PRESSAO_DO_AR_TR                   \n",
            "             -> PM1.0_TR                           \n",
            "             -> PM2.5_TR                           \n",
            "             -> NC0.5_TR                           \n",
            "             -> NC1.0_TR                           \n",
            "             -> NC2.5_TR                           \n",
            "--------------------------------------------------\n"
          ]
        },
        {
          "output_type": "stream",
          "name": "stderr",
          "text": [
            "/usr/local/lib/python3.7/dist-packages/sklearn/linear_model/_logistic.py:818: ConvergenceWarning: lbfgs failed to converge (status=1):\n",
            "STOP: TOTAL NO. of ITERATIONS REACHED LIMIT.\n",
            "\n",
            "Increase the number of iterations (max_iter) or scale the data as shown in:\n",
            "    https://scikit-learn.org/stable/modules/preprocessing.html\n",
            "Please also refer to the documentation for alternative solver options:\n",
            "    https://scikit-learn.org/stable/modules/linear_model.html#logistic-regression\n",
            "  extra_warning_msg=_LOGISTIC_SOLVER_CONVERGENCE_MSG,\n"
          ]
        }
      ]
    },
    {
      "cell_type": "code",
      "source": [
        "# Randomly over sample the minority class\n",
        "ros = RandomOverSampler(random_state=42)\n",
        "x_train_ros, y_train_ros= ros.fit_resample(x_train, y_train)\n",
        "\n",
        "# Check the number of records after over sampling\n",
        "print(sorted(Counter(y_train_ros).items()))"
      ],
      "metadata": {
        "colab": {
          "base_uri": "https://localhost:8080/"
        },
        "id": "YMfKGmta2jfv",
        "outputId": "17647adb-b191-406b-e5e7-00b845bacaaa"
      },
      "execution_count": 41,
      "outputs": [
        {
          "output_type": "stream",
          "name": "stdout",
          "text": [
            "[(0, 31387), (1, 31387)]\n"
          ]
        }
      ]
    },
    {
      "cell_type": "code",
      "source": [
        "#Passando no dataset \n",
        "dataset = (x_train_ros),(y_train_ros)"
      ],
      "metadata": {
        "id": "sBNqtkDL2YWL"
      },
      "execution_count": 42,
      "outputs": []
    },
    {
      "cell_type": "code",
      "source": [
        "#AJUSTAR MODELOS (TREINAMENTO) - AP.SUPERVISIONADO\n",
        "##REGRESSÃO LOGISTICA\n",
        "from sklearn.linear_model import LogisticRegression\n",
        "LogisticReg = LogisticRegression()\n",
        "LogisticReg.fit(x_train_ros,y_train_ros)"
      ],
      "metadata": {
        "id": "rR7FiNXnHIce",
        "colab": {
          "base_uri": "https://localhost:8080/"
        },
        "outputId": "e27bd13c-af0b-4679-e6d0-10d5374b506a"
      },
      "execution_count": 43,
      "outputs": [
        {
          "output_type": "stream",
          "name": "stderr",
          "text": [
            "/usr/local/lib/python3.7/dist-packages/sklearn/linear_model/_logistic.py:818: ConvergenceWarning: lbfgs failed to converge (status=1):\n",
            "STOP: TOTAL NO. of ITERATIONS REACHED LIMIT.\n",
            "\n",
            "Increase the number of iterations (max_iter) or scale the data as shown in:\n",
            "    https://scikit-learn.org/stable/modules/preprocessing.html\n",
            "Please also refer to the documentation for alternative solver options:\n",
            "    https://scikit-learn.org/stable/modules/linear_model.html#logistic-regression\n",
            "  extra_warning_msg=_LOGISTIC_SOLVER_CONVERGENCE_MSG,\n"
          ]
        },
        {
          "output_type": "execute_result",
          "data": {
            "text/plain": [
              "LogisticRegression()"
            ]
          },
          "metadata": {},
          "execution_count": 43
        }
      ]
    },
    {
      "cell_type": "code",
      "source": [
        "## RNA\n",
        "from sklearn.neural_network import MLPClassifier\n",
        "RNA = MLPClassifier(hidden_layer_sizes=(20), max_iter=2000, validation_fraction=0.2)\n",
        "RNA.fit(x_train_ros, y_train_ros)"
      ],
      "metadata": {
        "colab": {
          "base_uri": "https://localhost:8080/"
        },
        "id": "TSQnqDzXzL4n",
        "outputId": "9cdea026-09bb-4798-a1e0-65284ecca2d7"
      },
      "execution_count": 44,
      "outputs": [
        {
          "output_type": "execute_result",
          "data": {
            "text/plain": [
              "MLPClassifier(hidden_layer_sizes=20, max_iter=2000, validation_fraction=0.2)"
            ]
          },
          "metadata": {},
          "execution_count": 44
        }
      ]
    },
    {
      "cell_type": "code",
      "source": [
        "#PREDIÇÃO REGRESSAO LOGISTICA\n",
        "y_pred_train_RL = LogisticReg.predict(x_train_ros)\n",
        "y_pred_test_RL = LogisticReg.predict(x_test)\n",
        "\n",
        "###################################################################\n",
        "## PREDIÇÃO\n",
        "###################################################################\n",
        "# Regressão Logística  \n",
        "y_pred_train_RL = LogisticReg.predict(x_train_ros)\n",
        "y_pred_test_RL = LogisticReg.predict(x_test)\n",
        "\n",
        "#PREDIÇÃO PROBALIDADE\n",
        "y_pred_train_RL_P = LogisticReg.predict_proba(x_train_ros)\n",
        "y_pred_test_RL_P = LogisticReg.predict_proba(x_test)\n",
        "\n",
        "# RNA\n",
        "y_pred_train_RNA = RNA.predict(x_train_ros)\n",
        "y_pred_test_RNA = RNA.predict(x_test)\n",
        "\n",
        "#PREDIÇÃO PROBALIDADE\n",
        "y_pred_train_RNA_P = RNA.predict_proba(x_train_ros)\n",
        "y_pred_test_RNA_P = RNA.predict_proba(x_test)"
      ],
      "metadata": {
        "id": "udY5uVAoHIaT"
      },
      "execution_count": 45,
      "outputs": []
    },
    {
      "cell_type": "code",
      "source": [
        "#REPORT QUE TRAZ AS PRINCIPAIS METRICAS DO MODELO\n",
        "from sklearn.metrics import classification_report\n",
        "print(classification_report(y_test,y_pred_test_RL))"
      ],
      "metadata": {
        "id": "jCaZ6Yr_N81O",
        "colab": {
          "base_uri": "https://localhost:8080/"
        },
        "outputId": "571d97de-c7a2-4fdf-9a92-94889b84cab2"
      },
      "execution_count": 46,
      "outputs": [
        {
          "output_type": "stream",
          "name": "stdout",
          "text": [
            "              precision    recall  f1-score   support\n",
            "\n",
            "           0       0.80      0.94      0.86      5419\n",
            "           1       0.97      0.91      0.94     13370\n",
            "\n",
            "    accuracy                           0.91     18789\n",
            "   macro avg       0.89      0.92      0.90     18789\n",
            "weighted avg       0.92      0.91      0.92     18789\n",
            "\n"
          ]
        }
      ]
    },
    {
      "cell_type": "code",
      "source": [
        "## Montando um Data Frame (Matriz) com os resultados\n",
        "# Conjunto de treinamento\n",
        "df_train = pd.DataFrame(y_pred_train_RL, columns=['CLASSIF_RL'])\n",
        "df_train['CLASSIF_RNA'] = y_pred_train_RNA\n",
        "df_train['REGRESSION_RL'] = [x for x in y_pred_train_RL_P[:,1]] \n",
        "df_train['REGRESSION_RNA'] = [x for x in y_pred_train_RNA_P[:,1]]\n",
        "df_train['TARGET'] = [x for x in y_train_ros]\n",
        "df_train['TRN_TST'] = 'TRAIN'\n",
        "# Conjunto de test\n",
        "df_test = pd.DataFrame(y_pred_test_RL, columns=['CLASSIF_RL'])\n",
        "df_test['CLASSIF_RNA'] = y_pred_test_RNA\n",
        "df_test['REGRESSION_RL'] = [x for x in y_pred_test_RL_P[:,1]]  \n",
        "df_test['REGRESSION_RNA'] = [x for x in y_pred_test_RNA_P[:,1]]\n",
        "df_test['TARGET'] = [x for x in y_test]\n",
        "df_test['TRN_TST'] = 'TEST' \n",
        "# Juntando Conjunto de Teste e Treinamento\n",
        "df_total = pd.concat([df_test, df_train])\n",
        "\n",
        "## Exportando os dados para avaliação dos resultados\n",
        "df_total.to_csv('saidas_modelos.csv')"
      ],
      "metadata": {
        "id": "d2lnmLBEN8uV"
      },
      "execution_count": 47,
      "outputs": []
    },
    {
      "cell_type": "code",
      "source": [
        "###################################################################\n",
        "## AVALIAÇÃO DE DESEMPENHO\n",
        "###################################################################\n",
        "from sklearn import metrics\n",
        "Acc_RNA_Classificacao = metrics.accuracy_score(y_test, y_pred_test_RNA)\n",
        "Acc_RL_Classificacao  = metrics.accuracy_score(y_test, y_pred_test_RL)\n",
        "print()\n",
        "print('----------------------------------------')\n",
        "print('RNA Acurácia              :',np.round(Acc_RNA_Classificacao,4))\n",
        "print('RNA Erro de Classificação :',np.round(1 - Acc_RNA_Classificacao,4))\n",
        "print('RNA Erro Médio Quadrático :',np.round(np.mean((y_test - y_pred_test_RNA_P[:,1]) **2),4))\n",
        "print()\n",
        "print('RLog Acurácia             :',np.round(Acc_RL_Classificacao,4))\n",
        "print('RLog Erro de Classificação:',np.round(1 - Acc_RL_Classificacao,4))\n",
        "print('RLog Erro Médio Quadrático:',np.round(np.mean((y_test - y_pred_test_RL_P[:,1]) **2),4))\n",
        "print('----------------------------------------')\n",
        "print()\n",
        "print()\n"
      ],
      "metadata": {
        "id": "Bi4Qu-yeN8xp",
        "colab": {
          "base_uri": "https://localhost:8080/"
        },
        "outputId": "0c95e33e-231d-4fdd-a50c-75d46e200490"
      },
      "execution_count": 48,
      "outputs": [
        {
          "output_type": "stream",
          "name": "stdout",
          "text": [
            "\n",
            "----------------------------------------\n",
            "RNA Acurácia              : 0.9749\n",
            "RNA Erro de Classificação : 0.0251\n",
            "RNA Erro Médio Quadrático : 0.0194\n",
            "\n",
            "RLog Acurácia             : 0.9149\n",
            "RLog Erro de Classificação: 0.0851\n",
            "RLog Erro Médio Quadrático: 0.0607\n",
            "----------------------------------------\n",
            "\n",
            "\n"
          ]
        }
      ]
    },
    {
      "cell_type": "code",
      "source": [
        "#MATRIZ DE CONFUSÃO PARA REGRESSÃO LOGISTICA\n",
        "from sklearn.metrics import confusion_matrix #criando matriz de confusão\n",
        "cm = confusion_matrix(y_test, y_pred_test_RL)\n",
        "from sklearn.metrics import ConfusionMatrixDisplay\n",
        "ConfusionMatrixDisplay(confusion_matrix=cm, display_labels=['Confiavel', ' Não Confiavel']).plot();"
      ],
      "metadata": {
        "id": "rOshyKDe_4Im",
        "colab": {
          "base_uri": "https://localhost:8080/",
          "height": 281
        },
        "outputId": "c3865c35-91e2-47f6-e52d-cbe802e51712"
      },
      "execution_count": 49,
      "outputs": [
        {
          "output_type": "display_data",
          "data": {
            "text/plain": [
              "<Figure size 432x288 with 2 Axes>"
            ],
            "image/png": "[encoded data removed]"
          },
          "metadata": {
            "needs_background": "light"
          }
        }
      ]
    },
    {
      "cell_type": "code",
      "source": [
        "#MATRIZ DE CONFUSÃO PARA REDES NEURAIS\n",
        "from sklearn.metrics import confusion_matrix #criando matriz de confusão\n",
        "cm = confusion_matrix(y_test, y_pred_test_RNA)\n",
        "from sklearn.metrics import ConfusionMatrixDisplay\n",
        "ConfusionMatrixDisplay(confusion_matrix=cm, display_labels=['Confiavel', ' Não Confiavel']).plot();"
      ],
      "metadata": {
        "colab": {
          "base_uri": "https://localhost:8080/",
          "height": 279
        },
        "id": "hh21RIsn1M9Z",
        "outputId": "7a0587d7-2fb4-48fe-ade0-3c18c791a6a4"
      },
      "execution_count": 50,
      "outputs": [
        {
          "output_type": "display_data",
          "data": {
            "text/plain": [
              "<Figure size 432x288 with 2 Axes>"
            ],
            "image/png": "[encoded data removed]"
          },
          "metadata": {
            "needs_background": "light"
          }
        }
      ]
    },
    {
      "cell_type": "markdown",
      "source": [
        "#CONCLUSÃO \n",
        "\n",
        "###APÓS FAZER A PREPARAÇÃO DOS DADOS: REMOVENDO VALORES NULOS E 'NAN', FAZENDO TRATAMENTO DE OUTILEIRS E ELIMINANDO COLUNAS QUE NÃO SERÃO UTILIZADAS PARA ESSE CONTEXTO, FIZEMOS A SEPARAÇÃO DO CONJUNTO TREINO E TESTE PARA O MODELO DE REGRESSÃO LOGISTICA E REDES NEURAIS.\n",
        "\n",
        "##DEPOIS AVALIAMOS ATRAVÉS DA MÉTRICA ACURÁCIA A EFICÁCIA DE ACERTIVIDADE DO CONJUNTO COM Acurácia: 0.97 E  0.02 DE ERRO (RNA) considerando o melhor modelo. CONCLUI SE QUE O MODELO CHEGA A BATER O OBJETIVO DA META QUE ERA 85% DE ACURACIA."
      ],
      "metadata": {
        "id": "ntmdyMYjodVl"
      }
    }
  ]
}